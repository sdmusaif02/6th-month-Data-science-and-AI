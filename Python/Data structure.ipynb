{
 "cells": [
  {
   "cell_type": "markdown",
   "id": "311e0927-ef98-4e50-af1a-c6fc85168ce2",
   "metadata": {},
   "source": [
    "# Data structure"
   ]
  },
  {
   "cell_type": "markdown",
   "id": "7e396935-20bf-4585-87fc-30cd7dcf7ac2",
   "metadata": {},
   "source": [
    "# list"
   ]
  },
  {
   "cell_type": "code",
   "execution_count": null,
   "id": "333dd959-e9b8-4b55-981c-f00a37daa16b",
   "metadata": {},
   "outputs": [],
   "source": [
    "#List"
   ]
  },
  {
   "cell_type": "code",
   "execution_count": 52,
   "id": "fc4fa5c0-0f53-458b-88e5-0ad454fd94ec",
   "metadata": {},
   "outputs": [],
   "source": [
    "l = []"
   ]
  },
  {
   "cell_type": "code",
   "execution_count": 53,
   "id": "074dd8b7-de2f-463b-8ba4-5ed13b18b5ea",
   "metadata": {},
   "outputs": [
    {
     "data": {
      "text/plain": [
       "[]"
      ]
     },
     "execution_count": 53,
     "metadata": {},
     "output_type": "execute_result"
    }
   ],
   "source": [
    "l"
   ]
  },
  {
   "cell_type": "code",
   "execution_count": 54,
   "id": "f7ab56a5-b461-45c0-b43c-52ad559db958",
   "metadata": {},
   "outputs": [
    {
     "data": {
      "text/plain": [
       "list"
      ]
     },
     "execution_count": 54,
     "metadata": {},
     "output_type": "execute_result"
    }
   ],
   "source": [
    "type(l)"
   ]
  },
  {
   "cell_type": "code",
   "execution_count": 55,
   "id": "0d4405c9-e1a9-4132-8a53-e1f43466c138",
   "metadata": {},
   "outputs": [
    {
     "name": "stdout",
     "output_type": "stream",
     "text": [
      "0\n"
     ]
    }
   ],
   "source": [
    "print(len(l))"
   ]
  },
  {
   "cell_type": "markdown",
   "id": "63a71469-2d78-4e25-9f46-9ac719646bff",
   "metadata": {},
   "source": [
    "#append"
   ]
  },
  {
   "cell_type": "code",
   "execution_count": 56,
   "id": "0c55e320-12fa-468e-acd5-fde96e2f56f5",
   "metadata": {},
   "outputs": [],
   "source": [
    "l.append(10)"
   ]
  },
  {
   "cell_type": "code",
   "execution_count": 57,
   "id": "f4ac4b18-9d21-43bb-aebb-5f72d9356f3a",
   "metadata": {},
   "outputs": [
    {
     "data": {
      "text/plain": [
       "[10]"
      ]
     },
     "execution_count": 57,
     "metadata": {},
     "output_type": "execute_result"
    }
   ],
   "source": [
    "l"
   ]
  },
  {
   "cell_type": "code",
   "execution_count": 58,
   "id": "72071079-03a2-42f1-a70f-496370581b47",
   "metadata": {},
   "outputs": [],
   "source": [
    "l.append(20)\n",
    "l.append(20)\n",
    "l.append(30)\n",
    "l.append(50)\n",
    "l.append(50)"
   ]
  },
  {
   "cell_type": "code",
   "execution_count": 59,
   "id": "a7594d11-b1ef-4b57-870f-93d48dc9f5ac",
   "metadata": {},
   "outputs": [
    {
     "data": {
      "text/plain": [
       "[10, 20, 20, 30, 50, 50]"
      ]
     },
     "execution_count": 59,
     "metadata": {},
     "output_type": "execute_result"
    }
   ],
   "source": [
    "l"
   ]
  },
  {
   "cell_type": "code",
   "execution_count": 61,
   "id": "e681fbeb-3cf7-47e3-8a63-5212c7fad160",
   "metadata": {},
   "outputs": [],
   "source": [
    "l1 = []\n",
    "\n",
    "l1.append('nit')\n",
    "l1.append(True)\n",
    "l1.append(3.14)\n",
    "l1.append(1+2j)\n",
    "l1.append([1,2,3,4])"
   ]
  },
  {
   "cell_type": "code",
   "execution_count": 62,
   "id": "33590642-4bec-482c-8cb2-3f1aba636d06",
   "metadata": {},
   "outputs": [
    {
     "name": "stdout",
     "output_type": "stream",
     "text": [
      "[10, 20, 20, 30, 50, 50]\n",
      "['nit', True, 3.14, (1+2j), [1, 2, 3, 4]]\n"
     ]
    }
   ],
   "source": [
    "print(l)\n",
    "print(l1)"
   ]
  },
  {
   "cell_type": "code",
   "execution_count": 64,
   "id": "26d79753-aa2d-4d8c-b530-dba15c528951",
   "metadata": {},
   "outputs": [
    {
     "name": "stdout",
     "output_type": "stream",
     "text": [
      "nit\n",
      "True\n",
      "3.14\n",
      "(1+2j)\n",
      "[1, 2, 3, 4]\n"
     ]
    }
   ],
   "source": [
    "for i in l1 :\n",
    "    print(i)"
   ]
  },
  {
   "cell_type": "code",
   "execution_count": 65,
   "id": "b7f23e6d-a08a-463f-b5e8-d2a27e001c11",
   "metadata": {},
   "outputs": [
    {
     "data": {
      "text/plain": [
       "[10, 20, 20, 30, 50, 50]"
      ]
     },
     "execution_count": 65,
     "metadata": {},
     "output_type": "execute_result"
    }
   ],
   "source": [
    "l"
   ]
  },
  {
   "cell_type": "code",
   "execution_count": 66,
   "id": "2fb702fb-ab3c-4a45-a005-bbb2d4852c4d",
   "metadata": {},
   "outputs": [
    {
     "data": {
      "text/plain": [
       "[10, 20, 20, 30, 50, 50]"
      ]
     },
     "execution_count": 66,
     "metadata": {},
     "output_type": "execute_result"
    }
   ],
   "source": [
    "l[:]"
   ]
  },
  {
   "cell_type": "code",
   "execution_count": 67,
   "id": "9545e91f-12d0-4812-a30c-b415626716a7",
   "metadata": {},
   "outputs": [
    {
     "data": {
      "text/plain": [
       "10"
      ]
     },
     "execution_count": 67,
     "metadata": {},
     "output_type": "execute_result"
    }
   ],
   "source": [
    "l[0]"
   ]
  },
  {
   "cell_type": "code",
   "execution_count": 68,
   "id": "7fd78399-b6ec-4126-9310-a0e11766acfd",
   "metadata": {},
   "outputs": [
    {
     "data": {
      "text/plain": [
       "50"
      ]
     },
     "execution_count": 68,
     "metadata": {},
     "output_type": "execute_result"
    }
   ],
   "source": [
    "l[-1]"
   ]
  },
  {
   "cell_type": "code",
   "execution_count": 69,
   "id": "884ce0f2-3ffc-4daa-90d8-040c8528b4b3",
   "metadata": {},
   "outputs": [
    {
     "data": {
      "text/plain": [
       "[10, 20, 20, 30, 50, 50]"
      ]
     },
     "execution_count": 69,
     "metadata": {},
     "output_type": "execute_result"
    }
   ],
   "source": [
    "l"
   ]
  },
  {
   "cell_type": "code",
   "execution_count": null,
   "id": "8921ef92-22e6-4153-b19b-60436ab12811",
   "metadata": {},
   "outputs": [],
   "source": [
    "#changing list"
   ]
  },
  {
   "cell_type": "code",
   "execution_count": 70,
   "id": "7d5f793e-5991-4652-9b21-b286af298e2b",
   "metadata": {},
   "outputs": [],
   "source": [
    "l[0] = 100"
   ]
  },
  {
   "cell_type": "code",
   "execution_count": 71,
   "id": "aee34d20-4eb4-43e2-8d66-2abc850ba2b9",
   "metadata": {},
   "outputs": [
    {
     "data": {
      "text/plain": [
       "[100, 20, 20, 30, 50, 50]"
      ]
     },
     "execution_count": 71,
     "metadata": {},
     "output_type": "execute_result"
    }
   ],
   "source": [
    "l"
   ]
  },
  {
   "cell_type": "markdown",
   "id": "791b7e29-b5b2-4b36-a1a5-d6ac40224f2d",
   "metadata": {},
   "source": [
    "index fun"
   ]
  },
  {
   "cell_type": "code",
   "execution_count": 72,
   "id": "9d0ccd6c-7b9f-4957-ac21-130d6fcdec36",
   "metadata": {},
   "outputs": [
    {
     "data": {
      "text/plain": [
       "100"
      ]
     },
     "execution_count": 72,
     "metadata": {},
     "output_type": "execute_result"
    }
   ],
   "source": [
    "l[0] # forward indexing"
   ]
  },
  {
   "cell_type": "code",
   "execution_count": 73,
   "id": "438d6b95-227c-431e-895e-7cf5af07a374",
   "metadata": {},
   "outputs": [
    {
     "data": {
      "text/plain": [
       "50"
      ]
     },
     "execution_count": 73,
     "metadata": {},
     "output_type": "execute_result"
    }
   ],
   "source": [
    "l[-1] # backward indexing"
   ]
  },
  {
   "cell_type": "code",
   "execution_count": 74,
   "id": "fd1777ea-1ae0-48ed-af80-b8878a056011",
   "metadata": {},
   "outputs": [
    {
     "data": {
      "text/plain": [
       "[100, 20, 20, 30, 50, 50]"
      ]
     },
     "execution_count": 74,
     "metadata": {},
     "output_type": "execute_result"
    }
   ],
   "source": [
    "l"
   ]
  },
  {
   "cell_type": "code",
   "execution_count": 75,
   "id": "c2256a02-0e1b-43c0-bd45-a8ce9fd5f63a",
   "metadata": {},
   "outputs": [
    {
     "data": {
      "text/plain": [
       "[20, 20]"
      ]
     },
     "execution_count": 75,
     "metadata": {},
     "output_type": "execute_result"
    }
   ],
   "source": [
    "l[1:3]"
   ]
  },
  {
   "cell_type": "code",
   "execution_count": 76,
   "id": "ab60a41e-5645-432e-b092-d6125a8445d0",
   "metadata": {},
   "outputs": [],
   "source": [
    "l[0] = 100 #list is mutable(chnageable)"
   ]
  },
  {
   "cell_type": "code",
   "execution_count": 77,
   "id": "f786fa05-1f60-43f0-b93d-e0f7bbc7c1d5",
   "metadata": {},
   "outputs": [
    {
     "data": {
      "text/plain": [
       "[100, 20, 20, 30, 50, 50]"
      ]
     },
     "execution_count": 77,
     "metadata": {},
     "output_type": "execute_result"
    }
   ],
   "source": [
    "l"
   ]
  },
  {
   "cell_type": "code",
   "execution_count": 78,
   "id": "718a3b54-285d-45b2-836b-ee797051c043",
   "metadata": {},
   "outputs": [
    {
     "data": {
      "text/plain": [
       "['nit', True, 3.14, (1+2j), [1, 2, 3, 4]]"
      ]
     },
     "execution_count": 78,
     "metadata": {},
     "output_type": "execute_result"
    }
   ],
   "source": [
    "l1"
   ]
  },
  {
   "cell_type": "code",
   "execution_count": 79,
   "id": "6b1e58d0-8061-47bc-89db-af12205bf559",
   "metadata": {},
   "outputs": [
    {
     "data": {
      "text/plain": [
       "[100, 20, 20, 30, 50, 50]"
      ]
     },
     "execution_count": 79,
     "metadata": {},
     "output_type": "execute_result"
    }
   ],
   "source": [
    "l"
   ]
  },
  {
   "cell_type": "code",
   "execution_count": 80,
   "id": "d4722322-1f17-4d3b-a78a-d2e603839fb0",
   "metadata": {},
   "outputs": [
    {
     "data": {
      "text/plain": [
       "['nit', True, 3.14, (1+2j), [1, 2, 3, 4]]"
      ]
     },
     "execution_count": 80,
     "metadata": {},
     "output_type": "execute_result"
    }
   ],
   "source": [
    "l1"
   ]
  },
  {
   "cell_type": "code",
   "execution_count": 81,
   "id": "e35e4dce-e802-44c4-91fc-375bd8ea3b2f",
   "metadata": {},
   "outputs": [],
   "source": [
    "l.append(50)"
   ]
  },
  {
   "cell_type": "code",
   "execution_count": 82,
   "id": "cb2d33b5-db9c-4ce3-b367-04607a0fa723",
   "metadata": {},
   "outputs": [
    {
     "data": {
      "text/plain": [
       "[100, 20, 20, 30, 50, 50, 50]"
      ]
     },
     "execution_count": 82,
     "metadata": {},
     "output_type": "execute_result"
    }
   ],
   "source": [
    "l"
   ]
  },
  {
   "cell_type": "code",
   "execution_count": 83,
   "id": "8bb55b5b-6062-4736-81b6-23eb8583721b",
   "metadata": {},
   "outputs": [],
   "source": [
    "l.append(60)"
   ]
  },
  {
   "cell_type": "code",
   "execution_count": 84,
   "id": "88ff8b0b-41f5-483b-8a2e-14f010393711",
   "metadata": {},
   "outputs": [
    {
     "data": {
      "text/plain": [
       "[100, 20, 20, 30, 50, 50, 50, 60]"
      ]
     },
     "execution_count": 84,
     "metadata": {},
     "output_type": "execute_result"
    }
   ],
   "source": [
    "l"
   ]
  },
  {
   "cell_type": "markdown",
   "id": "c704e1bf-4e05-43d3-9757-22117ffeeaf2",
   "metadata": {},
   "source": [
    "#Copy fun"
   ]
  },
  {
   "cell_type": "code",
   "execution_count": 85,
   "id": "a436dd68-aeed-4dfa-bc26-275d71cb2ebf",
   "metadata": {},
   "outputs": [
    {
     "data": {
      "text/plain": [
       "[]"
      ]
     },
     "execution_count": 85,
     "metadata": {},
     "output_type": "execute_result"
    }
   ],
   "source": [
    "l2 = []\n",
    "l2"
   ]
  },
  {
   "cell_type": "code",
   "execution_count": 86,
   "id": "51e79bd0-bd81-4184-9688-43aca690bf73",
   "metadata": {},
   "outputs": [],
   "source": [
    "l2 = l1.copy() # copy fun is used to copy the list"
   ]
  },
  {
   "cell_type": "code",
   "execution_count": 87,
   "id": "b1f801f6-468e-4654-94c4-a6d50ca18c53",
   "metadata": {},
   "outputs": [
    {
     "data": {
      "text/plain": [
       "['nit', True, 3.14, (1+2j), [1, 2, 3, 4]]"
      ]
     },
     "execution_count": 87,
     "metadata": {},
     "output_type": "execute_result"
    }
   ],
   "source": [
    "l2"
   ]
  },
  {
   "cell_type": "code",
   "execution_count": 88,
   "id": "a1e79354-0548-4d11-89ef-241c8f5be642",
   "metadata": {},
   "outputs": [
    {
     "data": {
      "text/plain": [
       "True"
      ]
     },
     "execution_count": 88,
     "metadata": {},
     "output_type": "execute_result"
    }
   ],
   "source": [
    "l1 == l2"
   ]
  },
  {
   "cell_type": "code",
   "execution_count": 89,
   "id": "f6a29c2f-1acd-45ba-ae7f-b46b461e3638",
   "metadata": {},
   "outputs": [
    {
     "name": "stdout",
     "output_type": "stream",
     "text": [
      "['nit', True, 3.14, (1+2j), [1, 2, 3, 4]]\n",
      "['nit', True, 3.14, (1+2j), [1, 2, 3, 4]]\n"
     ]
    }
   ],
   "source": [
    "print(l1)\n",
    "print(l2)"
   ]
  },
  {
   "cell_type": "code",
   "execution_count": 90,
   "id": "9e78c0cf-92ec-40d7-b167-a7e8263e638b",
   "metadata": {},
   "outputs": [
    {
     "name": "stdout",
     "output_type": "stream",
     "text": [
      "1908266573056\n",
      "1908266573056\n",
      "1908272227200\n"
     ]
    }
   ],
   "source": [
    "print(id(l))\n",
    "print(id(l))\n",
    "print(id(l2))"
   ]
  },
  {
   "cell_type": "markdown",
   "id": "bc5175d0-47b8-41c0-a241-387658ea11ae",
   "metadata": {},
   "source": [
    "#Count fun"
   ]
  },
  {
   "cell_type": "code",
   "execution_count": 91,
   "id": "574d3df2-d4df-4afc-aacf-4d1957948fcd",
   "metadata": {},
   "outputs": [
    {
     "data": {
      "text/plain": [
       "[100, 20, 20, 30, 50, 50, 50, 60]"
      ]
     },
     "execution_count": 91,
     "metadata": {},
     "output_type": "execute_result"
    }
   ],
   "source": [
    "l"
   ]
  },
  {
   "cell_type": "code",
   "execution_count": null,
   "id": "e5eeba0f-4c0e-4019-8964-7ee743056a09",
   "metadata": {},
   "outputs": [],
   "source": [
    "l.cont(20) # count function is used to count the element under the list\n"
   ]
  },
  {
   "cell_type": "code",
   "execution_count": 92,
   "id": "c0777aca-54ca-4b4d-9163-9d2d74290362",
   "metadata": {},
   "outputs": [
    {
     "data": {
      "text/plain": [
       "1"
      ]
     },
     "execution_count": 92,
     "metadata": {},
     "output_type": "execute_result"
    }
   ],
   "source": [
    "l2.count('nit')"
   ]
  },
  {
   "cell_type": "markdown",
   "id": "b1894afa-6b94-4f99-8a2f-bd0a544163d7",
   "metadata": {},
   "source": [
    "clear fun"
   ]
  },
  {
   "cell_type": "code",
   "execution_count": 93,
   "id": "5bd8a41c-8980-4a63-b8fd-2981055e360c",
   "metadata": {},
   "outputs": [
    {
     "data": {
      "text/plain": [
       "[100, 20, 20, 30, 50, 50, 50, 60]"
      ]
     },
     "execution_count": 93,
     "metadata": {},
     "output_type": "execute_result"
    }
   ],
   "source": [
    "l"
   ]
  },
  {
   "cell_type": "code",
   "execution_count": null,
   "id": "36a61cc6-e235-409b-868c-f047b8217aa3",
   "metadata": {},
   "outputs": [],
   "source": [
    "l.clear() # claer function is used to claer the all atoms"
   ]
  },
  {
   "cell_type": "code",
   "execution_count": 94,
   "id": "bbab5c8f-7e82-4c72-87d4-7aaf01c5c5b6",
   "metadata": {},
   "outputs": [
    {
     "data": {
      "text/plain": [
       "[100, 20, 20, 30, 50, 50, 50, 60]"
      ]
     },
     "execution_count": 94,
     "metadata": {},
     "output_type": "execute_result"
    }
   ],
   "source": [
    "l"
   ]
  },
  {
   "cell_type": "code",
   "execution_count": 97,
   "id": "6b2fe6e5-8f29-4e1e-b1da-1b522104f6c4",
   "metadata": {},
   "outputs": [],
   "source": [
    "l.clear()"
   ]
  },
  {
   "cell_type": "code",
   "execution_count": 98,
   "id": "3ab28283-77f6-44ac-9e6a-57c99af56c47",
   "metadata": {},
   "outputs": [
    {
     "data": {
      "text/plain": [
       "[]"
      ]
     },
     "execution_count": 98,
     "metadata": {},
     "output_type": "execute_result"
    }
   ],
   "source": [
    "l"
   ]
  },
  {
   "cell_type": "markdown",
   "id": "28ec4862-36b9-45e2-8abd-9ae13da1b5e7",
   "metadata": {},
   "source": [
    "# Delet the variables "
   ]
  },
  {
   "cell_type": "code",
   "execution_count": 99,
   "id": "b37e55ae-4681-4f93-9fc3-97d746bbfc2c",
   "metadata": {},
   "outputs": [],
   "source": [
    "del l"
   ]
  },
  {
   "cell_type": "code",
   "execution_count": 100,
   "id": "aff97115-623f-466b-a33a-606fd4f4fac2",
   "metadata": {},
   "outputs": [
    {
     "ename": "NameError",
     "evalue": "name 'l' is not defined",
     "output_type": "error",
     "traceback": [
      "\u001b[1;31m---------------------------------------------------------------------------\u001b[0m",
      "\u001b[1;31mNameError\u001b[0m                                 Traceback (most recent call last)",
      "Cell \u001b[1;32mIn[100], line 1\u001b[0m\n\u001b[1;32m----> 1\u001b[0m l\n",
      "\u001b[1;31mNameError\u001b[0m: name 'l' is not defined"
     ]
    }
   ],
   "source": [
    "l"
   ]
  },
  {
   "cell_type": "markdown",
   "id": "2233cc76-681b-47a8-8ef8-457fa053a36a",
   "metadata": {},
   "source": [
    "#pop function"
   ]
  },
  {
   "cell_type": "code",
   "execution_count": 101,
   "id": "bfc94b9f-24d4-45bb-8d6e-e3e45a1644eb",
   "metadata": {},
   "outputs": [
    {
     "data": {
      "text/plain": [
       "['nit', True, 3.14, (1+2j), [1, 2, 3, 4]]"
      ]
     },
     "execution_count": 101,
     "metadata": {},
     "output_type": "execute_result"
    }
   ],
   "source": [
    "l1"
   ]
  },
  {
   "cell_type": "code",
   "execution_count": 102,
   "id": "bbc5556e-0da7-4540-829b-c47492f882e0",
   "metadata": {},
   "outputs": [
    {
     "data": {
      "text/plain": [
       "[1, 2, 3, 4]"
      ]
     },
     "execution_count": 102,
     "metadata": {},
     "output_type": "execute_result"
    }
   ],
   "source": [
    "l1.pop() #pop remove and return item (by default it is remove last item from list)and you can remove specific item by giving index number as argument ."
   ]
  },
  {
   "cell_type": "code",
   "execution_count": 103,
   "id": "aacb0c37-1cf8-4d02-a211-d85f5d404539",
   "metadata": {},
   "outputs": [
    {
     "data": {
      "text/plain": [
       "['nit', True, 3.14, (1+2j)]"
      ]
     },
     "execution_count": 103,
     "metadata": {},
     "output_type": "execute_result"
    }
   ],
   "source": [
    "l1"
   ]
  },
  {
   "cell_type": "code",
   "execution_count": 104,
   "id": "116205d4-bfdf-4824-a132-78f070ecc6be",
   "metadata": {},
   "outputs": [
    {
     "data": {
      "text/plain": [
       "True"
      ]
     },
     "execution_count": 104,
     "metadata": {},
     "output_type": "execute_result"
    }
   ],
   "source": [
    "l1.pop(1)# remove items used index number"
   ]
  },
  {
   "cell_type": "code",
   "execution_count": 105,
   "id": "d935e533-200c-4e6f-9fee-d2172b65a318",
   "metadata": {},
   "outputs": [
    {
     "data": {
      "text/plain": [
       "['nit', 3.14, (1+2j)]"
      ]
     },
     "execution_count": 105,
     "metadata": {},
     "output_type": "execute_result"
    }
   ],
   "source": [
    "l1"
   ]
  },
  {
   "cell_type": "markdown",
   "id": "3885f022-65c2-42b5-b4bd-fa05a285d0fd",
   "metadata": {},
   "source": [
    "#remove function"
   ]
  },
  {
   "cell_type": "code",
   "execution_count": 106,
   "id": "7b75b50c-98f0-41b4-ac6f-210e90025110",
   "metadata": {},
   "outputs": [
    {
     "data": {
      "text/plain": [
       "['nit', True, 3.14, (1+2j), [1, 2, 3, 4]]"
      ]
     },
     "execution_count": 106,
     "metadata": {},
     "output_type": "execute_result"
    }
   ],
   "source": [
    "l2"
   ]
  },
  {
   "cell_type": "code",
   "execution_count": 107,
   "id": "d9e1fb4f-7eb6-4ef3-823a-5efaac97a04b",
   "metadata": {},
   "outputs": [],
   "source": [
    "l2.remove(True) # remove fun is used to remove items but it does not return"
   ]
  },
  {
   "cell_type": "code",
   "execution_count": 108,
   "id": "4da2c133-9788-4b74-a7bf-53a1691dc4b6",
   "metadata": {},
   "outputs": [
    {
     "data": {
      "text/plain": [
       "['nit', 3.14, (1+2j), [1, 2, 3, 4]]"
      ]
     },
     "execution_count": 108,
     "metadata": {},
     "output_type": "execute_result"
    }
   ],
   "source": [
    "l2"
   ]
  },
  {
   "cell_type": "markdown",
   "id": "fea784fa-ae91-45fe-8790-9687dbe91e9d",
   "metadata": {},
   "source": [
    "#insert function"
   ]
  },
  {
   "cell_type": "code",
   "execution_count": 109,
   "id": "af81c2f0-e817-4be6-a981-24614e106343",
   "metadata": {},
   "outputs": [
    {
     "data": {
      "text/plain": [
       "['nit', 3.14, (1+2j)]"
      ]
     },
     "execution_count": 109,
     "metadata": {},
     "output_type": "execute_result"
    }
   ],
   "source": [
    "l1"
   ]
  },
  {
   "cell_type": "code",
   "execution_count": 110,
   "id": "98dfbfca-3708-4640-bcfd-b4eae29f3d3f",
   "metadata": {},
   "outputs": [],
   "source": [
    "l1.insert(0,True) # insert  the item using insert function"
   ]
  },
  {
   "cell_type": "code",
   "execution_count": 111,
   "id": "a156f579-5cd8-435e-9ba5-9b7bf5c862c4",
   "metadata": {},
   "outputs": [
    {
     "data": {
      "text/plain": [
       "[True, 'nit', 3.14, (1+2j)]"
      ]
     },
     "execution_count": 111,
     "metadata": {},
     "output_type": "execute_result"
    }
   ],
   "source": [
    "l1"
   ]
  },
  {
   "cell_type": "code",
   "execution_count": 112,
   "id": "fdfa6b95-ba32-4fba-a55d-848855d62215",
   "metadata": {},
   "outputs": [],
   "source": [
    "l1.insert(3,[1,2,3])"
   ]
  },
  {
   "cell_type": "code",
   "execution_count": 113,
   "id": "0c7c19a8-4391-459f-81b7-aad28ffe7aec",
   "metadata": {},
   "outputs": [
    {
     "data": {
      "text/plain": [
       "[True, 'nit', 3.14, [1, 2, 3], (1+2j)]"
      ]
     },
     "execution_count": 113,
     "metadata": {},
     "output_type": "execute_result"
    }
   ],
   "source": [
    "l1"
   ]
  },
  {
   "cell_type": "code",
   "execution_count": 114,
   "id": "1f25e352-6df2-4212-a676-a3e4fb772f15",
   "metadata": {},
   "outputs": [
    {
     "data": {
      "text/plain": [
       "[True, 'nit', 3.14, [1, 2, 3], (1+2j)]"
      ]
     },
     "execution_count": 114,
     "metadata": {},
     "output_type": "execute_result"
    }
   ],
   "source": [
    "l1"
   ]
  },
  {
   "cell_type": "markdown",
   "id": "6dffbb84-8c8a-40d8-960e-994962fb8371",
   "metadata": {},
   "source": [
    "#sort function"
   ]
  },
  {
   "cell_type": "code",
   "execution_count": 115,
   "id": "6b214099-308d-43be-b63b-b3f6e8a577b8",
   "metadata": {},
   "outputs": [],
   "source": [
    "l = [30,50,82,10,90,38]"
   ]
  },
  {
   "cell_type": "code",
   "execution_count": 116,
   "id": "926a2f1b-4011-4a75-a189-0d25ea00e24c",
   "metadata": {},
   "outputs": [
    {
     "data": {
      "text/plain": [
       "[30, 50, 82, 10, 90, 38]"
      ]
     },
     "execution_count": 116,
     "metadata": {},
     "output_type": "execute_result"
    }
   ],
   "source": [
    "l"
   ]
  },
  {
   "cell_type": "code",
   "execution_count": 117,
   "id": "f8ae1514-02b9-4f56-b3d6-954f7495fd67",
   "metadata": {},
   "outputs": [],
   "source": [
    "l.sort() # sorts the list in ascending"
   ]
  },
  {
   "cell_type": "code",
   "execution_count": 118,
   "id": "b688c1e2-6964-40d3-b888-ff0cdebd3773",
   "metadata": {},
   "outputs": [
    {
     "data": {
      "text/plain": [
       "[10, 30, 38, 50, 82, 90]"
      ]
     },
     "execution_count": 118,
     "metadata": {},
     "output_type": "execute_result"
    }
   ],
   "source": [
    "l"
   ]
  },
  {
   "cell_type": "markdown",
   "id": "8c4ad81f-7435-40ed-9aeb-94d072d316ae",
   "metadata": {},
   "source": [
    "#revers function"
   ]
  },
  {
   "cell_type": "code",
   "execution_count": 119,
   "id": "ae02e3fb-8f4b-4c74-ba06-93d2e4ee4ce2",
   "metadata": {},
   "outputs": [
    {
     "data": {
      "text/plain": [
       "[10, 30, 38, 50, 82, 90]"
      ]
     },
     "execution_count": 119,
     "metadata": {},
     "output_type": "execute_result"
    }
   ],
   "source": [
    "l"
   ]
  },
  {
   "cell_type": "code",
   "execution_count": 120,
   "id": "1286f76d-4d41-4508-87a9-0b57d96ac38b",
   "metadata": {},
   "outputs": [],
   "source": [
    "l.reverse() #reverse the ordr of the elements in a lsit modify the original list"
   ]
  },
  {
   "cell_type": "code",
   "execution_count": 121,
   "id": "b0b72108-d19c-4856-8f2f-c3ed8d2c9be1",
   "metadata": {},
   "outputs": [
    {
     "data": {
      "text/plain": [
       "[90, 82, 50, 38, 30, 10]"
      ]
     },
     "execution_count": 121,
     "metadata": {},
     "output_type": "execute_result"
    }
   ],
   "source": [
    "l"
   ]
  },
  {
   "cell_type": "markdown",
   "id": "6e87549c-aac3-4b27-a861-408a50cd9329",
   "metadata": {},
   "source": [
    "#extend function"
   ]
  },
  {
   "cell_type": "code",
   "execution_count": 122,
   "id": "08e9599e-d70c-48df-9083-674c0fd2ab8c",
   "metadata": {},
   "outputs": [
    {
     "name": "stdout",
     "output_type": "stream",
     "text": [
      "[90, 82, 50, 38, 30, 10]\n",
      "[True, 'nit', 3.14, [1, 2, 3], (1+2j)]\n"
     ]
    }
   ],
   "source": [
    "print(l)\n",
    "print(l1)"
   ]
  },
  {
   "cell_type": "code",
   "execution_count": 123,
   "id": "d610cab0-d3c8-4738-9e71-0c4caf25f9a3",
   "metadata": {},
   "outputs": [],
   "source": [
    "l.extend(l1) # merge one list from another list"
   ]
  },
  {
   "cell_type": "code",
   "execution_count": 124,
   "id": "d8606b8c-427e-41b0-a431-0b4436b89202",
   "metadata": {},
   "outputs": [
    {
     "data": {
      "text/plain": [
       "[90, 82, 50, 38, 30, 10, True, 'nit', 3.14, [1, 2, 3], (1+2j)]"
      ]
     },
     "execution_count": 124,
     "metadata": {},
     "output_type": "execute_result"
    }
   ],
   "source": [
    "l"
   ]
  },
  {
   "cell_type": "markdown",
   "id": "d0de3225-dc89-437a-bb92-5001cb26d437",
   "metadata": {},
   "source": [
    "#Tuple"
   ]
  },
  {
   "cell_type": "code",
   "execution_count": 3,
   "id": "fe5f6e2d-7c7b-4d7a-8527-4069e58c02cb",
   "metadata": {},
   "outputs": [],
   "source": [
    " tup1 = (1,True,3.14,5-7j) #tuple is immutable"
   ]
  },
  {
   "cell_type": "code",
   "execution_count": 4,
   "id": "93315473-0b31-4d68-97e9-264459667920",
   "metadata": {},
   "outputs": [
    {
     "data": {
      "text/plain": [
       "(1, True, 3.14, (5-7j))"
      ]
     },
     "execution_count": 4,
     "metadata": {},
     "output_type": "execute_result"
    }
   ],
   "source": [
    "tup1"
   ]
  },
  {
   "cell_type": "code",
   "execution_count": 5,
   "id": "42819a1d-2787-49f9-b5d3-5969335e45f0",
   "metadata": {},
   "outputs": [
    {
     "data": {
      "text/plain": [
       "tuple"
      ]
     },
     "execution_count": 5,
     "metadata": {},
     "output_type": "execute_result"
    }
   ],
   "source": [
    "type(tup1)"
   ]
  },
  {
   "cell_type": "code",
   "execution_count": 6,
   "id": "cfd84412-3492-493a-adea-2a6515aeb3f9",
   "metadata": {},
   "outputs": [],
   "source": [
    "#Extract"
   ]
  },
  {
   "cell_type": "code",
   "execution_count": 7,
   "id": "9623f2e4-5195-4b24-8c34-24396e91b931",
   "metadata": {},
   "outputs": [
    {
     "data": {
      "text/plain": [
       "1"
      ]
     },
     "execution_count": 7,
     "metadata": {},
     "output_type": "execute_result"
    }
   ],
   "source": [
    "tup1[0]"
   ]
  },
  {
   "cell_type": "code",
   "execution_count": 8,
   "id": "65206902-d56d-45ce-94d7-42cef3a5344c",
   "metadata": {},
   "outputs": [
    {
     "data": {
      "text/plain": [
       "(5-7j)"
      ]
     },
     "execution_count": 8,
     "metadata": {},
     "output_type": "execute_result"
    }
   ],
   "source": [
    "tup1[-1]"
   ]
  },
  {
   "cell_type": "code",
   "execution_count": 9,
   "id": "e5c4bc6b-eecb-478f-9e8b-288d08bf4361",
   "metadata": {},
   "outputs": [
    {
     "data": {
      "text/plain": [
       "(1, True)"
      ]
     },
     "execution_count": 9,
     "metadata": {},
     "output_type": "execute_result"
    }
   ],
   "source": [
    "tup1[0:2]"
   ]
  },
  {
   "cell_type": "code",
   "execution_count": 11,
   "id": "b33b9cff-2346-41eb-856c-d3d113b0e6f0",
   "metadata": {},
   "outputs": [
    {
     "ename": "TypeError",
     "evalue": "'tuple' object does not support item assignment",
     "output_type": "error",
     "traceback": [
      "\u001b[1;31m---------------------------------------------------------------------------\u001b[0m",
      "\u001b[1;31mTypeError\u001b[0m                                 Traceback (most recent call last)",
      "Cell \u001b[1;32mIn[11], line 1\u001b[0m\n\u001b[1;32m----> 1\u001b[0m tup1[\u001b[38;5;241m2\u001b[39m] \u001b[38;5;241m=\u001b[39m \u001b[38;5;124m\"\u001b[39m\u001b[38;5;124mthis is musaif\u001b[39m\u001b[38;5;124m\"\u001b[39m\n",
      "\u001b[1;31mTypeError\u001b[0m: 'tuple' object does not support item assignment"
     ]
    }
   ],
   "source": [
    "tup1[2] = \"this is musaif\" # tuple cannot modify a tuple ecause it is immutable"
   ]
  },
  {
   "cell_type": "code",
   "execution_count": 12,
   "id": "b99aa71c-fe52-4f91-8104-cafdf32dae8c",
   "metadata": {},
   "outputs": [
    {
     "data": {
      "text/plain": [
       "4"
      ]
     },
     "execution_count": 12,
     "metadata": {},
     "output_type": "execute_result"
    }
   ],
   "source": [
    "len(tup1)"
   ]
  },
  {
   "cell_type": "code",
   "execution_count": 13,
   "id": "42af1df4-690a-4a6d-9849-1c3dc887e673",
   "metadata": {},
   "outputs": [],
   "source": [
    "tup1 = (1,2,3)\n",
    "tup2 = (4,5,6)"
   ]
  },
  {
   "cell_type": "code",
   "execution_count": 15,
   "id": "30988ec0-0e98-412b-befb-e5f3282c002a",
   "metadata": {},
   "outputs": [
    {
     "data": {
      "text/plain": [
       "((1, 2, 3), (4, 5, 6))"
      ]
     },
     "execution_count": 15,
     "metadata": {},
     "output_type": "execute_result"
    }
   ],
   "source": [
    "tup1,tup2"
   ]
  },
  {
   "cell_type": "code",
   "execution_count": 16,
   "id": "d6a1c100-458b-49d5-9dc3-a664acc90b15",
   "metadata": {},
   "outputs": [
    {
     "data": {
      "text/plain": [
       "(1, 2, 3, 4, 5, 6)"
      ]
     },
     "execution_count": 16,
     "metadata": {},
     "output_type": "execute_result"
    }
   ],
   "source": [
    "tup1+tup2"
   ]
  },
  {
   "cell_type": "code",
   "execution_count": 17,
   "id": "50000a7c-fc55-4d98-b79c-ff6a08af33dd",
   "metadata": {},
   "outputs": [
    {
     "data": {
      "text/plain": [
       "(4, 5, 6, 1, 2, 3)"
      ]
     },
     "execution_count": 17,
     "metadata": {},
     "output_type": "execute_result"
    }
   ],
   "source": [
    "tup2 + tup1"
   ]
  },
  {
   "cell_type": "code",
   "execution_count": 19,
   "id": "cd0b91b7-8f44-43d3-8d77-aff7b58584e7",
   "metadata": {},
   "outputs": [
    {
     "data": {
      "text/plain": [
       "(1, 2, 3, 1, 2, 3, 1, 2, 3, 1, 2, 3, 1, 2, 3)"
      ]
     },
     "execution_count": 19,
     "metadata": {},
     "output_type": "execute_result"
    }
   ],
   "source": [
    "tup1*5"
   ]
  },
  {
   "cell_type": "code",
   "execution_count": 21,
   "id": "0cab4b17-d698-49ad-8b71-463fcb9357db",
   "metadata": {},
   "outputs": [
    {
     "data": {
      "text/plain": [
       "(1, 2, 3, 1, 2, 3, 1, 2, 3, 1, 2, 3, 1, 2, 3, 4, 5, 6)"
      ]
     },
     "execution_count": 21,
     "metadata": {},
     "output_type": "execute_result"
    }
   ],
   "source": [
    "tup1*5 + tup2"
   ]
  },
  {
   "cell_type": "markdown",
   "id": "62bc8715-e787-48e3-ab50-761abba6001c",
   "metadata": {},
   "source": [
    "#tuple functions"
   ]
  },
  {
   "cell_type": "code",
   "execution_count": 23,
   "id": "8647e9d0-ec26-4447-b7be-7f2ffd19935a",
   "metadata": {},
   "outputs": [],
   "source": [
    "#minimum value"
   ]
  },
  {
   "cell_type": "code",
   "execution_count": 24,
   "id": "d476c524-96a0-48dd-b0e1-8c8a0a9f28cc",
   "metadata": {},
   "outputs": [
    {
     "data": {
      "text/plain": [
       "1"
      ]
     },
     "execution_count": 24,
     "metadata": {},
     "output_type": "execute_result"
    }
   ],
   "source": [
    "min(tup1)"
   ]
  },
  {
   "cell_type": "code",
   "execution_count": 25,
   "id": "fb045147-fee0-4ec8-95af-babc0dce4c01",
   "metadata": {},
   "outputs": [
    {
     "data": {
      "text/plain": [
       "4"
      ]
     },
     "execution_count": 25,
     "metadata": {},
     "output_type": "execute_result"
    }
   ],
   "source": [
    "min(tup2)"
   ]
  },
  {
   "cell_type": "code",
   "execution_count": 26,
   "id": "dadde973-5801-4992-b1ce-5e6611c3592f",
   "metadata": {},
   "outputs": [],
   "source": [
    "#maximum value"
   ]
  },
  {
   "cell_type": "code",
   "execution_count": 27,
   "id": "045a2e84-8cd8-4b72-8fa4-3781c6a85bf0",
   "metadata": {},
   "outputs": [
    {
     "data": {
      "text/plain": [
       "3"
      ]
     },
     "execution_count": 27,
     "metadata": {},
     "output_type": "execute_result"
    }
   ],
   "source": [
    "max(tup1)"
   ]
  },
  {
   "cell_type": "code",
   "execution_count": 28,
   "id": "0fe61162-1ed1-42c0-8b51-72ac67d93b8a",
   "metadata": {},
   "outputs": [
    {
     "data": {
      "text/plain": [
       "6"
      ]
     },
     "execution_count": 28,
     "metadata": {},
     "output_type": "execute_result"
    }
   ],
   "source": [
    "max(tup2)"
   ]
  },
  {
   "cell_type": "code",
   "execution_count": 29,
   "id": "e6fbde42-6b83-4053-8d67-28e7bef37258",
   "metadata": {},
   "outputs": [],
   "source": [
    "tup1 = (10,20,30,40,50)"
   ]
  },
  {
   "cell_type": "code",
   "execution_count": 30,
   "id": "6ffb06a5-96c3-4193-98f2-9af6453e6283",
   "metadata": {},
   "outputs": [
    {
     "data": {
      "text/plain": [
       "(10, 20, 30, 40, 50)"
      ]
     },
     "execution_count": 30,
     "metadata": {},
     "output_type": "execute_result"
    }
   ],
   "source": [
    "tup1"
   ]
  },
  {
   "cell_type": "code",
   "execution_count": 31,
   "id": "c0525e0f-fcff-48d0-9025-8eec658ea2d6",
   "metadata": {},
   "outputs": [
    {
     "data": {
      "text/plain": [
       "10"
      ]
     },
     "execution_count": 31,
     "metadata": {},
     "output_type": "execute_result"
    }
   ],
   "source": [
    "min(tup1)"
   ]
  },
  {
   "cell_type": "code",
   "execution_count": 32,
   "id": "f9f0c2a7-6ab9-4209-bb70-a21832cf4258",
   "metadata": {},
   "outputs": [
    {
     "data": {
      "text/plain": [
       "50"
      ]
     },
     "execution_count": 32,
     "metadata": {},
     "output_type": "execute_result"
    }
   ],
   "source": [
    "max(tup1)\n"
   ]
  },
  {
   "cell_type": "markdown",
   "id": "a9071bfc-6ebb-4e4d-92a5-facf0a641d28",
   "metadata": {},
   "source": [
    "#Dictionary"
   ]
  },
  {
   "cell_type": "code",
   "execution_count": 33,
   "id": "297f134e-c75d-4c8f-b8ec-f2b0f08574dd",
   "metadata": {},
   "outputs": [],
   "source": [
    "d1 ={'apple':50,'mango':100,'Guava':200}"
   ]
  },
  {
   "cell_type": "code",
   "execution_count": 34,
   "id": "d459dc7d-8070-4a6c-8f9c-4a100efdc896",
   "metadata": {},
   "outputs": [
    {
     "data": {
      "text/plain": [
       "{'apple': 50, 'mango': 100, 'Guava': 200}"
      ]
     },
     "execution_count": 34,
     "metadata": {},
     "output_type": "execute_result"
    }
   ],
   "source": [
    "d1"
   ]
  },
  {
   "cell_type": "code",
   "execution_count": 35,
   "id": "e7431cfb-aabd-43fe-8d37-a386834aaa73",
   "metadata": {},
   "outputs": [
    {
     "data": {
      "text/plain": [
       "dict"
      ]
     },
     "execution_count": 35,
     "metadata": {},
     "output_type": "execute_result"
    }
   ],
   "source": [
    "type(d1)"
   ]
  },
  {
   "cell_type": "code",
   "execution_count": 36,
   "id": "9765ebd4-93c1-4132-8e78-6f544d2886b9",
   "metadata": {},
   "outputs": [],
   "source": [
    "#keys and values"
   ]
  },
  {
   "cell_type": "code",
   "execution_count": 38,
   "id": "de1b23bb-f237-4d8f-8079-4d0d2e549d3a",
   "metadata": {},
   "outputs": [
    {
     "data": {
      "text/plain": [
       "dict_keys(['apple', 'mango', 'Guava'])"
      ]
     },
     "execution_count": 38,
     "metadata": {},
     "output_type": "execute_result"
    }
   ],
   "source": [
    "d1.keys()"
   ]
  },
  {
   "cell_type": "code",
   "execution_count": 40,
   "id": "90469955-c6a6-4e72-9f82-45f98b79e05a",
   "metadata": {},
   "outputs": [
    {
     "data": {
      "text/plain": [
       "dict_values([50, 100, 200])"
      ]
     },
     "execution_count": 40,
     "metadata": {},
     "output_type": "execute_result"
    }
   ],
   "source": [
    "d1.values()"
   ]
  },
  {
   "cell_type": "code",
   "execution_count": 41,
   "id": "c9e2b800-f74f-4c6a-b5b8-8f0c26d3523b",
   "metadata": {},
   "outputs": [],
   "source": [
    "#modify dictionnary"
   ]
  },
  {
   "cell_type": "code",
   "execution_count": 43,
   "id": "aac41595-3fab-4446-a7af-01f7f658dc3a",
   "metadata": {},
   "outputs": [],
   "source": [
    "d1 ['orange'] = 5"
   ]
  },
  {
   "cell_type": "code",
   "execution_count": 44,
   "id": "4faefe0f-c90c-4267-bede-dc74650a2291",
   "metadata": {},
   "outputs": [
    {
     "data": {
      "text/plain": [
       "{'apple': 50, 'mango': 100, 'Guava': 200, 'orange': 5}"
      ]
     },
     "execution_count": 44,
     "metadata": {},
     "output_type": "execute_result"
    }
   ],
   "source": [
    "d1"
   ]
  },
  {
   "cell_type": "code",
   "execution_count": 45,
   "id": "b549ebaa-9b72-4b13-a825-7aaa1ea99b75",
   "metadata": {},
   "outputs": [],
   "source": [
    "d1['Guava'] = 150"
   ]
  },
  {
   "cell_type": "code",
   "execution_count": 46,
   "id": "141518bf-07d8-4bad-a85d-ec4532aa45f7",
   "metadata": {},
   "outputs": [
    {
     "data": {
      "text/plain": [
       "{'apple': 50, 'mango': 100, 'Guava': 150, 'orange': 5}"
      ]
     },
     "execution_count": 46,
     "metadata": {},
     "output_type": "execute_result"
    }
   ],
   "source": [
    "d1"
   ]
  },
  {
   "cell_type": "code",
   "execution_count": 47,
   "id": "faefc435-969e-484f-b6e7-5a624ca6f3d7",
   "metadata": {},
   "outputs": [],
   "source": [
    "#dictionary functions"
   ]
  },
  {
   "cell_type": "code",
   "execution_count": 48,
   "id": "7f2a7fd5-c61a-43fe-8c6c-22c5968ef237",
   "metadata": {},
   "outputs": [],
   "source": [
    "#update one"
   ]
  },
  {
   "cell_type": "code",
   "execution_count": 50,
   "id": "8495cbe4-ee82-45f6-935f-87069603c58c",
   "metadata": {},
   "outputs": [],
   "source": [
    "d2 ={'watermelon':100,'graps':50,'muskmelon':50}"
   ]
  },
  {
   "cell_type": "code",
   "execution_count": 51,
   "id": "ce0d95e0-63a9-40f5-8786-712574457c36",
   "metadata": {},
   "outputs": [
    {
     "data": {
      "text/plain": [
       "{'watermelon': 100, 'graps': 50, 'muskmelon': 50}"
      ]
     },
     "execution_count": 51,
     "metadata": {},
     "output_type": "execute_result"
    }
   ],
   "source": [
    "d2"
   ]
  },
  {
   "cell_type": "code",
   "execution_count": 52,
   "id": "7e928d72-5277-4193-b22a-fc18415f104e",
   "metadata": {},
   "outputs": [],
   "source": [
    "d1.update(d2)"
   ]
  },
  {
   "cell_type": "code",
   "execution_count": 54,
   "id": "f8a61a77-4398-4285-9ae1-2a21afd377b6",
   "metadata": {},
   "outputs": [
    {
     "data": {
      "text/plain": [
       "{'apple': 50,\n",
       " 'mango': 100,\n",
       " 'Guava': 150,\n",
       " 'orange': 5,\n",
       " 'watermelon': 100,\n",
       " 'graps': 50,\n",
       " 'muskmelon': 50}"
      ]
     },
     "execution_count": 54,
     "metadata": {},
     "output_type": "execute_result"
    }
   ],
   "source": [
    "d1"
   ]
  },
  {
   "cell_type": "code",
   "execution_count": 55,
   "id": "1f391757-7499-4f1b-befb-94c3e708326b",
   "metadata": {},
   "outputs": [],
   "source": [
    "#pop function"
   ]
  },
  {
   "cell_type": "code",
   "execution_count": 57,
   "id": "73bc3356-c2e0-451f-b07e-3f418ef0bbae",
   "metadata": {},
   "outputs": [
    {
     "data": {
      "text/plain": [
       "100"
      ]
     },
     "execution_count": 57,
     "metadata": {},
     "output_type": "execute_result"
    }
   ],
   "source": [
    "d1.pop('mango')"
   ]
  },
  {
   "cell_type": "code",
   "execution_count": 58,
   "id": "690c3dff-46a8-4705-a4a5-e64eea053a1c",
   "metadata": {},
   "outputs": [
    {
     "data": {
      "text/plain": [
       "{'apple': 50,\n",
       " 'Guava': 150,\n",
       " 'orange': 5,\n",
       " 'watermelon': 100,\n",
       " 'graps': 50,\n",
       " 'muskmelon': 50}"
      ]
     },
     "execution_count": 58,
     "metadata": {},
     "output_type": "execute_result"
    }
   ],
   "source": [
    "d1"
   ]
  },
  {
   "cell_type": "markdown",
   "id": "92d22a39-ac28-40b3-a0a2-c7786d3e6ea2",
   "metadata": {},
   "source": [
    "#sets"
   ]
  },
  {
   "cell_type": "code",
   "execution_count": 61,
   "id": "cfc16d63-a116-4aff-8fb0-8f3a785fb505",
   "metadata": {},
   "outputs": [],
   "source": [
    "s1 = {1,3.14,'musaif'} #sets do not allow the duplicates"
   ]
  },
  {
   "cell_type": "code",
   "execution_count": 60,
   "id": "e30ecfe8-ce65-4f49-a95f-ae874b0414b9",
   "metadata": {},
   "outputs": [
    {
     "data": {
      "text/plain": [
       "{1, 3.14, 'musaif'}"
      ]
     },
     "execution_count": 60,
     "metadata": {},
     "output_type": "execute_result"
    }
   ],
   "source": [
    "s1"
   ]
  },
  {
   "cell_type": "code",
   "execution_count": 63,
   "id": "c60d0b8e-c6be-4f52-b6d4-be5aba391446",
   "metadata": {},
   "outputs": [],
   "source": [
    "s1 = {1,3.14,'musaif',3.14,'musaif'}"
   ]
  },
  {
   "cell_type": "code",
   "execution_count": 64,
   "id": "bf546500-db3b-4c99-b375-425e467efaa4",
   "metadata": {},
   "outputs": [
    {
     "data": {
      "text/plain": [
       "{1, 3.14, 'musaif'}"
      ]
     },
     "execution_count": 64,
     "metadata": {},
     "output_type": "execute_result"
    }
   ],
   "source": [
    "s1"
   ]
  },
  {
   "cell_type": "code",
   "execution_count": 65,
   "id": "9ce07492-bc70-4a59-99d9-8bd9bf84cfc3",
   "metadata": {},
   "outputs": [],
   "source": [
    "#set operations"
   ]
  },
  {
   "cell_type": "code",
   "execution_count": 66,
   "id": "c445099b-960d-4b87-9424-cc864f96efff",
   "metadata": {},
   "outputs": [],
   "source": [
    "#add method"
   ]
  },
  {
   "cell_type": "code",
   "execution_count": 67,
   "id": "434a0f0e-65b2-4f55-bcbb-3100ad57d953",
   "metadata": {},
   "outputs": [],
   "source": [
    "s1.add(False)"
   ]
  },
  {
   "cell_type": "code",
   "execution_count": 68,
   "id": "528fe02f-6c67-435b-9827-49b5a0c71c9f",
   "metadata": {},
   "outputs": [
    {
     "data": {
      "text/plain": [
       "{1, 3.14, False, 'musaif'}"
      ]
     },
     "execution_count": 68,
     "metadata": {},
     "output_type": "execute_result"
    }
   ],
   "source": [
    "s1"
   ]
  },
  {
   "cell_type": "code",
   "execution_count": 69,
   "id": "8bf2564f-f24d-4faf-9d3e-1fce93c52bb6",
   "metadata": {},
   "outputs": [],
   "source": [
    "#multiple order add"
   ]
  },
  {
   "cell_type": "code",
   "execution_count": 74,
   "id": "d15f97b7-d209-482d-9500-a91d0def440d",
   "metadata": {},
   "outputs": [],
   "source": [
    "s1.update(['musaif',3526,2+7j])"
   ]
  },
  {
   "cell_type": "code",
   "execution_count": 75,
   "id": "bf7e286c-f312-496d-9c40-197391cea794",
   "metadata": {},
   "outputs": [
    {
     "data": {
      "text/plain": [
       "{(2+7j), 1, 3.14, 3526, False, 'musaif'}"
      ]
     },
     "execution_count": 75,
     "metadata": {},
     "output_type": "execute_result"
    }
   ],
   "source": [
    "s1"
   ]
  },
  {
   "cell_type": "code",
   "execution_count": 76,
   "id": "a08a8404-3332-4945-8cae-c1ae08bf7d41",
   "metadata": {},
   "outputs": [],
   "source": [
    "#removing element"
   ]
  },
  {
   "cell_type": "code",
   "execution_count": 77,
   "id": "8c73c882-f749-4d65-af4b-2a8b4f172150",
   "metadata": {},
   "outputs": [],
   "source": [
    "s1.remove(False)"
   ]
  },
  {
   "cell_type": "code",
   "execution_count": 78,
   "id": "fce75941-ce1b-4155-a7cc-2d0309949290",
   "metadata": {},
   "outputs": [
    {
     "data": {
      "text/plain": [
       "{(2+7j), 1, 3.14, 3526, 'musaif'}"
      ]
     },
     "execution_count": 78,
     "metadata": {},
     "output_type": "execute_result"
    }
   ],
   "source": [
    "s1"
   ]
  },
  {
   "cell_type": "code",
   "execution_count": 79,
   "id": "d2ea6262-a7ba-43fa-b3aa-ec410a60c536",
   "metadata": {},
   "outputs": [],
   "source": [
    "s1.remove(3526)"
   ]
  },
  {
   "cell_type": "code",
   "execution_count": 80,
   "id": "8ea7b4e7-61f8-4a01-b3dc-acc8acfc1016",
   "metadata": {},
   "outputs": [
    {
     "data": {
      "text/plain": [
       "{(2+7j), 1, 3.14, 'musaif'}"
      ]
     },
     "execution_count": 80,
     "metadata": {},
     "output_type": "execute_result"
    }
   ],
   "source": [
    "s1"
   ]
  },
  {
   "cell_type": "code",
   "execution_count": 81,
   "id": "5935c716-40af-4092-a8a0-0a04a1af42dc",
   "metadata": {},
   "outputs": [],
   "source": [
    "#union method"
   ]
  },
  {
   "cell_type": "code",
   "execution_count": 82,
   "id": "e3a73d79-1da8-401f-878c-aefef7f3c3ad",
   "metadata": {},
   "outputs": [],
   "source": [
    "s1 = {1,2,3,4,5,6}\n",
    "s2 = {7,8,9,10}"
   ]
  },
  {
   "cell_type": "code",
   "execution_count": 83,
   "id": "cd9d2130-1dfb-46fe-b50d-6ef277e6d662",
   "metadata": {},
   "outputs": [
    {
     "data": {
      "text/plain": [
       "{1, 2, 3, 4, 5, 6, 7, 8, 9, 10}"
      ]
     },
     "execution_count": 83,
     "metadata": {},
     "output_type": "execute_result"
    }
   ],
   "source": [
    "s1.union(s2)"
   ]
  },
  {
   "cell_type": "code",
   "execution_count": 87,
   "id": "cfac335f-cc9b-4400-a8c6-399f32643dca",
   "metadata": {},
   "outputs": [],
   "source": [
    "#intersection method"
   ]
  },
  {
   "cell_type": "code",
   "execution_count": 84,
   "id": "6a1a9099-ff5e-4634-b9c0-fac8a65fcb6b",
   "metadata": {},
   "outputs": [],
   "source": [
    "s3 = {5,6,7,8,9}"
   ]
  },
  {
   "cell_type": "code",
   "execution_count": 85,
   "id": "74b5ed4e-7554-4a7c-8e4d-d510596299d7",
   "metadata": {},
   "outputs": [
    {
     "data": {
      "text/plain": [
       "{5, 6, 7, 8, 9}"
      ]
     },
     "execution_count": 85,
     "metadata": {},
     "output_type": "execute_result"
    }
   ],
   "source": [
    "s3"
   ]
  },
  {
   "cell_type": "code",
   "execution_count": 86,
   "id": "9947c645-e8f6-4c4f-ad3e-b2e74d69674e",
   "metadata": {},
   "outputs": [
    {
     "data": {
      "text/plain": [
       "{5, 6}"
      ]
     },
     "execution_count": 86,
     "metadata": {},
     "output_type": "execute_result"
    }
   ],
   "source": [
    "s1.intersection(s3)"
   ]
  },
  {
   "cell_type": "code",
   "execution_count": null,
   "id": "25a5ef27-7560-44bf-997b-ca97ea022306",
   "metadata": {},
   "outputs": [],
   "source": []
  }
 ],
 "metadata": {
  "kernelspec": {
   "display_name": "Python 3 (ipykernel)",
   "language": "python",
   "name": "python3"
  },
  "language_info": {
   "codemirror_mode": {
    "name": "ipython",
    "version": 3
   },
   "file_extension": ".py",
   "mimetype": "text/x-python",
   "name": "python",
   "nbconvert_exporter": "python",
   "pygments_lexer": "ipython3",
   "version": "3.12.7"
  }
 },
 "nbformat": 4,
 "nbformat_minor": 5
}
