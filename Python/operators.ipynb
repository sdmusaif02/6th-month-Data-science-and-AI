{
 "cells": [
  {
   "cell_type": "code",
   "execution_count": 46,
   "id": "049db19d-7e54-4692-9a7c-3fc093fe699f",
   "metadata": {},
   "outputs": [],
   "source": [
    "#Operators"
   ]
  },
  {
   "cell_type": "code",
   "execution_count": 47,
   "id": "cc9cc2fa-2886-4aac-ab7f-1d2c9d2244e1",
   "metadata": {},
   "outputs": [],
   "source": [
    "#Arithmatic operators"
   ]
  },
  {
   "cell_type": "code",
   "execution_count": null,
   "id": "5e953bdd-3b67-4f60-b15b-0506cb81ebd6",
   "metadata": {},
   "outputs": [],
   "source": [
    "+, - , *, /"
   ]
  },
  {
   "cell_type": "code",
   "execution_count": null,
   "id": "3b682934-adf1-40e4-9521-2a3aaac73966",
   "metadata": {},
   "outputs": [],
   "source": [
    "a = 10"
   ]
  },
  {
   "cell_type": "code",
   "execution_count": null,
   "id": "1ce756a1-1858-40fa-9cb3-5753ad6fb275",
   "metadata": {},
   "outputs": [],
   "source": [
    "b = 20"
   ]
  },
  {
   "cell_type": "code",
   "execution_count": null,
   "id": "d6afe4af-d75f-4a4a-a9c0-10dd578e46b9",
   "metadata": {},
   "outputs": [],
   "source": [
    "a,b"
   ]
  },
  {
   "cell_type": "code",
   "execution_count": null,
   "id": "97dfb754-901b-437f-b04d-6fa82c434dea",
   "metadata": {},
   "outputs": [],
   "source": [
    "a+b"
   ]
  },
  {
   "cell_type": "code",
   "execution_count": null,
   "id": "ea189dde-8018-4221-be29-a06c8ea2f135",
   "metadata": {},
   "outputs": [],
   "source": [
    "a-b"
   ]
  },
  {
   "cell_type": "code",
   "execution_count": null,
   "id": "f99c0445-68e8-4625-a07f-82d1bd724d71",
   "metadata": {},
   "outputs": [],
   "source": [
    "a*b"
   ]
  },
  {
   "cell_type": "code",
   "execution_count": null,
   "id": "e5521947-c9ee-405c-95da-e17f67f499da",
   "metadata": {},
   "outputs": [],
   "source": [
    "a/b"
   ]
  },
  {
   "cell_type": "code",
   "execution_count": null,
   "id": "265a6574-afdc-455a-a11e-530e2d465f53",
   "metadata": {},
   "outputs": [],
   "source": [
    "#Relationa operators"
   ]
  },
  {
   "cell_type": "code",
   "execution_count": null,
   "id": "d30d8fad-3228-4959-8488-05f9a42bff15",
   "metadata": {},
   "outputs": [],
   "source": [
    "<,>,==,!="
   ]
  },
  {
   "cell_type": "code",
   "execution_count": null,
   "id": "c5561a02-cdc1-4d02-841d-a4095757a064",
   "metadata": {},
   "outputs": [],
   "source": [
    "a = 10"
   ]
  },
  {
   "cell_type": "code",
   "execution_count": null,
   "id": "5d7a58e9-2069-4b22-8970-183b7c17c958",
   "metadata": {},
   "outputs": [],
   "source": [
    "b = 20"
   ]
  },
  {
   "cell_type": "code",
   "execution_count": null,
   "id": "7fb5d6e2-bd45-41ee-915d-47073560be8c",
   "metadata": {},
   "outputs": [],
   "source": [
    "a<b"
   ]
  },
  {
   "cell_type": "code",
   "execution_count": null,
   "id": "3422b35d-0eff-42eb-a083-bdfc9c72032c",
   "metadata": {},
   "outputs": [],
   "source": [
    "a>b"
   ]
  },
  {
   "cell_type": "code",
   "execution_count": null,
   "id": "33fb3f9b-3b65-468c-81c0-1836027d752e",
   "metadata": {},
   "outputs": [],
   "source": [
    "a==b"
   ]
  },
  {
   "cell_type": "code",
   "execution_count": null,
   "id": "4d0f477b-7c7c-4d0a-b494-c083857e177b",
   "metadata": {},
   "outputs": [],
   "source": [
    "a!=b"
   ]
  },
  {
   "cell_type": "code",
   "execution_count": null,
   "id": "4f161d82-0705-46eb-9063-fd52fc037df6",
   "metadata": {},
   "outputs": [],
   "source": [
    "#Logical operators"
   ]
  },
  {
   "cell_type": "code",
   "execution_count": null,
   "id": "a4b2dfb4-1af5-449d-9311-4f5a38eeab7d",
   "metadata": {},
   "outputs": [],
   "source": [
    "& , |"
   ]
  },
  {
   "cell_type": "code",
   "execution_count": null,
   "id": "9fc38c66-05ba-4a35-acb4-9ec0934a4696",
   "metadata": {},
   "outputs": [],
   "source": [
    "a = True\n",
    "b = False"
   ]
  },
  {
   "cell_type": "code",
   "execution_count": null,
   "id": "b0b1e894-0eb7-49f9-b722-b04e327020b3",
   "metadata": {},
   "outputs": [],
   "source": [
    "a & a"
   ]
  },
  {
   "cell_type": "code",
   "execution_count": null,
   "id": "d82589c0-ddc0-4278-be43-9b4cc2bf10a1",
   "metadata": {},
   "outputs": [],
   "source": [
    "a & b"
   ]
  },
  {
   "cell_type": "code",
   "execution_count": null,
   "id": "f43dae94-a2b4-4f34-bc0b-7f33a691360d",
   "metadata": {},
   "outputs": [],
   "source": [
    "b & b"
   ]
  },
  {
   "cell_type": "code",
   "execution_count": null,
   "id": "18a9fc29-6404-44d3-8b6e-54aa1fb04cb9",
   "metadata": {},
   "outputs": [],
   "source": [
    "a | a"
   ]
  },
  {
   "cell_type": "code",
   "execution_count": null,
   "id": "7e037316-7d44-4e34-b010-fe504e01b69a",
   "metadata": {},
   "outputs": [],
   "source": [
    "a | b"
   ]
  },
  {
   "cell_type": "code",
   "execution_count": null,
   "id": "9ee99fae-01de-4a77-addb-a71daf217240",
   "metadata": {},
   "outputs": [],
   "source": [
    "b | b"
   ]
  },
  {
   "cell_type": "code",
   "execution_count": null,
   "id": "725b901a-091a-466d-befb-6f54474b4f67",
   "metadata": {},
   "outputs": [],
   "source": [
    "#string operation"
   ]
  },
  {
   "cell_type": "code",
   "execution_count": null,
   "id": "83f60812-fa55-48ca-b5a3-390aaa82740b",
   "metadata": {},
   "outputs": [],
   "source": [
    "str1 = 'this is my first string'"
   ]
  },
  {
   "cell_type": "code",
   "execution_count": null,
   "id": "c68db9fc-7ede-4caa-b34b-9e820919de6a",
   "metadata": {},
   "outputs": [],
   "source": [
    "str1"
   ]
  },
  {
   "cell_type": "code",
   "execution_count": null,
   "id": "99e9894a-efdf-41bd-a424-ac2d1d55f1a8",
   "metadata": {},
   "outputs": [],
   "source": [
    "str2 = \"this is my second string\""
   ]
  },
  {
   "cell_type": "code",
   "execution_count": null,
   "id": "1cfa4bfb-4648-4d2d-94da-57e550b9b7a2",
   "metadata": {},
   "outputs": [],
   "source": [
    "str2"
   ]
  },
  {
   "cell_type": "code",
   "execution_count": null,
   "id": "5382d1fb-db89-4119-983a-15d757062fe4",
   "metadata": {},
   "outputs": [],
   "source": [
    "str3 = '''this \n",
    "is my\n",
    "third string'''"
   ]
  },
  {
   "cell_type": "code",
   "execution_count": null,
   "id": "93936572-1eee-4dcc-8540-5e23c736b000",
   "metadata": {},
   "outputs": [],
   "source": [
    "str3"
   ]
  },
  {
   "cell_type": "code",
   "execution_count": null,
   "id": "343c987c-b77d-4881-ba15-759f179d9d61",
   "metadata": {},
   "outputs": [],
   "source": [
    "#Extracting individual characters"
   ]
  },
  {
   "cell_type": "code",
   "execution_count": null,
   "id": "4dcfbb2d-40fa-4c89-acb3-dee85bb7e273",
   "metadata": {},
   "outputs": [],
   "source": [
    "my_string = \"my name is musaif\""
   ]
  },
  {
   "cell_type": "code",
   "execution_count": null,
   "id": "bde12823-2fb3-442e-91fd-a459f78a3d11",
   "metadata": {},
   "outputs": [],
   "source": [
    "my_string"
   ]
  },
  {
   "cell_type": "code",
   "execution_count": null,
   "id": "9282df32-7ebf-4ac1-ad7a-aec51178fa3c",
   "metadata": {},
   "outputs": [],
   "source": [
    "my_string[0]"
   ]
  },
  {
   "cell_type": "code",
   "execution_count": null,
   "id": "e59d5437-f0be-45df-821a-88873e90050c",
   "metadata": {},
   "outputs": [],
   "source": [
    "my_string = \"my name is musaif\""
   ]
  },
  {
   "cell_type": "code",
   "execution_count": null,
   "id": "80b28422-1db8-4a94-a4be-839ed91802dd",
   "metadata": {},
   "outputs": [],
   "source": [
    "my_string"
   ]
  },
  {
   "cell_type": "code",
   "execution_count": null,
   "id": "ea7b4865-5b26-47df-b0e7-a801e4b2db91",
   "metadata": {},
   "outputs": [],
   "source": [
    "my_string[-1]"
   ]
  },
  {
   "cell_type": "code",
   "execution_count": null,
   "id": "1ee62b48-b027-4c27-9e98-3aca98787624",
   "metadata": {},
   "outputs": [],
   "source": [
    "#length of string"
   ]
  },
  {
   "cell_type": "code",
   "execution_count": 50,
   "id": "0928e4d4-9c7f-4dd0-829f-0127177ba0a1",
   "metadata": {},
   "outputs": [
    {
     "data": {
      "text/plain": [
       "' my name is musaif'"
      ]
     },
     "execution_count": 50,
     "metadata": {},
     "output_type": "execute_result"
    }
   ],
   "source": [
    "my_string = ' my name is musaif'\n",
    "my_string"
   ]
  },
  {
   "cell_type": "code",
   "execution_count": 51,
   "id": "ce095bcc-d7d2-4e41-97fb-05d9136c0fdc",
   "metadata": {},
   "outputs": [
    {
     "data": {
      "text/plain": [
       "18"
      ]
     },
     "execution_count": 51,
     "metadata": {},
     "output_type": "execute_result"
    }
   ],
   "source": [
    "len(my_string)"
   ]
  },
  {
   "cell_type": "code",
   "execution_count": null,
   "id": "cfd11d18-6887-4b96-8c08-c054a0140591",
   "metadata": {},
   "outputs": [],
   "source": [
    "#lower case"
   ]
  },
  {
   "cell_type": "code",
   "execution_count": 53,
   "id": "640db5de-1a70-42ca-9a41-bbb50ac66464",
   "metadata": {},
   "outputs": [
    {
     "data": {
      "text/plain": [
       "' my name is musaif'"
      ]
     },
     "execution_count": 53,
     "metadata": {},
     "output_type": "execute_result"
    }
   ],
   "source": [
    "my_string.lower()"
   ]
  },
  {
   "cell_type": "code",
   "execution_count": null,
   "id": "a2112d41-33ea-4285-a827-c6d0879c563d",
   "metadata": {},
   "outputs": [],
   "source": [
    "#upper case"
   ]
  },
  {
   "cell_type": "code",
   "execution_count": 54,
   "id": "4d6c2949-6392-44d7-9eae-b1668fb734f1",
   "metadata": {},
   "outputs": [
    {
     "data": {
      "text/plain": [
       "' MY NAME IS MUSAIF'"
      ]
     },
     "execution_count": 54,
     "metadata": {},
     "output_type": "execute_result"
    }
   ],
   "source": [
    "my_string.upper()"
   ]
  },
  {
   "cell_type": "code",
   "execution_count": null,
   "id": "66d562e9-dbf5-4436-a190-cdd0e9f0da8e",
   "metadata": {},
   "outputs": [],
   "source": [
    "#Replace function"
   ]
  },
  {
   "cell_type": "code",
   "execution_count": 55,
   "id": "c16560cd-8ae2-44d1-a98f-2633fcc4af1d",
   "metadata": {},
   "outputs": [
    {
     "data": {
      "text/plain": [
       "' my name are musaif'"
      ]
     },
     "execution_count": 55,
     "metadata": {},
     "output_type": "execute_result"
    }
   ],
   "source": [
    "my_string.replace('is','are')"
   ]
  },
  {
   "cell_type": "code",
   "execution_count": null,
   "id": "6df22b56-fb43-43f8-9444-f44ab7f446e3",
   "metadata": {},
   "outputs": [],
   "source": [
    "#count funcation"
   ]
  },
  {
   "cell_type": "code",
   "execution_count": 63,
   "id": "a4c79657-7e60-4913-870f-00ef997193c0",
   "metadata": {},
   "outputs": [
    {
     "data": {
      "text/plain": [
       "' musaif musaif 500 500 500 500'"
      ]
     },
     "execution_count": 63,
     "metadata": {},
     "output_type": "execute_result"
    }
   ],
   "source": [
    "my_new = ' musaif musaif 500 500 500 500'\n",
    "my_new"
   ]
  },
  {
   "cell_type": "code",
   "execution_count": 65,
   "id": "ebc30759-d2a6-46e6-8c0c-5717c2ff054e",
   "metadata": {},
   "outputs": [
    {
     "data": {
      "text/plain": [
       "2"
      ]
     },
     "execution_count": 65,
     "metadata": {},
     "output_type": "execute_result"
    }
   ],
   "source": [
    "my_new.count('musaif')"
   ]
  },
  {
   "cell_type": "code",
   "execution_count": 66,
   "id": "270a1e55-32f9-4e34-b5f5-b5c8a6e2918c",
   "metadata": {},
   "outputs": [
    {
     "data": {
      "text/plain": [
       "4"
      ]
     },
     "execution_count": 66,
     "metadata": {},
     "output_type": "execute_result"
    }
   ],
   "source": [
    "my_new.count('500')"
   ]
  },
  {
   "cell_type": "code",
   "execution_count": 67,
   "id": "52efdf32-e76b-408b-b1b9-af1f187cf852",
   "metadata": {},
   "outputs": [
    {
     "data": {
      "text/plain": [
       "2"
      ]
     },
     "execution_count": 67,
     "metadata": {},
     "output_type": "execute_result"
    }
   ],
   "source": [
    "my_new.count('s')"
   ]
  },
  {
   "cell_type": "code",
   "execution_count": null,
   "id": "9682a70c-416e-4f76-9b04-f72547e31f8e",
   "metadata": {},
   "outputs": [],
   "source": [
    "#finding  function"
   ]
  },
  {
   "cell_type": "code",
   "execution_count": 68,
   "id": "a05e6580-add9-49c6-909b-fe2536695d0b",
   "metadata": {},
   "outputs": [],
   "source": [
    "my_string = 'hello world is owsesome'"
   ]
  },
  {
   "cell_type": "code",
   "execution_count": 70,
   "id": "8b22ed45-dcfa-4d8e-8368-d06cff2026fc",
   "metadata": {},
   "outputs": [
    {
     "data": {
      "text/plain": [
       "12"
      ]
     },
     "execution_count": 70,
     "metadata": {},
     "output_type": "execute_result"
    }
   ],
   "source": [
    "my_string.find('i')"
   ]
  },
  {
   "cell_type": "code",
   "execution_count": 79,
   "id": "0cf19a04-9f52-4ba3-9c6e-ffe499367764",
   "metadata": {},
   "outputs": [
    {
     "data": {
      "text/plain": [
       "'president obama is best president of united state'"
      ]
     },
     "execution_count": 79,
     "metadata": {},
     "output_type": "execute_result"
    }
   ],
   "source": [
    "str_final = 'president obama is best president of united state'\n",
    "str_final"
   ]
  },
  {
   "cell_type": "code",
   "execution_count": 80,
   "id": "9aec8856-3051-4ca8-9f32-9a49cab26cc8",
   "metadata": {},
   "outputs": [
    {
     "data": {
      "text/plain": [
       "['pr', 'sid', 'nt obama is b', 'st pr', 'sid', 'nt of unit', 'd stat', '']"
      ]
     },
     "execution_count": 80,
     "metadata": {},
     "output_type": "execute_result"
    }
   ],
   "source": [
    "str_final.split('e')"
   ]
  },
  {
   "cell_type": "code",
   "execution_count": null,
   "id": "f811555d-bd17-4769-afd8-7ee93d47214e",
   "metadata": {},
   "outputs": [],
   "source": []
  },
  {
   "cell_type": "code",
   "execution_count": null,
   "id": "ecb72757-b0ff-4c4b-8942-d51e8989f027",
   "metadata": {},
   "outputs": [],
   "source": []
  },
  {
   "cell_type": "code",
   "execution_count": null,
   "id": "6f92b09b-15a7-4ce7-957e-e1df02b951da",
   "metadata": {},
   "outputs": [],
   "source": []
  },
  {
   "cell_type": "code",
   "execution_count": null,
   "id": "1c43c9ea-1287-4f2b-b084-d2a61f4eba60",
   "metadata": {},
   "outputs": [],
   "source": []
  },
  {
   "cell_type": "code",
   "execution_count": null,
   "id": "69313e38-94cf-40cb-ab93-ef7f1910d084",
   "metadata": {},
   "outputs": [],
   "source": []
  },
  {
   "cell_type": "code",
   "execution_count": null,
   "id": "a5f71ae1-61d7-4ed5-ba20-13ddcee7c539",
   "metadata": {},
   "outputs": [],
   "source": []
  }
 ],
 "metadata": {
  "kernelspec": {
   "display_name": "Python 3 (ipykernel)",
   "language": "python",
   "name": "python3"
  },
  "language_info": {
   "codemirror_mode": {
    "name": "ipython",
    "version": 3
   },
   "file_extension": ".py",
   "mimetype": "text/x-python",
   "name": "python",
   "nbconvert_exporter": "python",
   "pygments_lexer": "ipython3",
   "version": "3.12.7"
  }
 },
 "nbformat": 4,
 "nbformat_minor": 5
}
