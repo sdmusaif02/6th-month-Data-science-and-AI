{
 "cells": [
  {
   "cell_type": "markdown",
   "id": "311e0927-ef98-4e50-af1a-c6fc85168ce2",
   "metadata": {},
   "source": [
    "# Data structure"
   ]
  },
  {
   "cell_type": "markdown",
   "id": "7e396935-20bf-4585-87fc-30cd7dcf7ac2",
   "metadata": {},
   "source": [
    "# list"
   ]
  },
  {
   "cell_type": "code",
   "execution_count": null,
   "id": "333dd959-e9b8-4b55-981c-f00a37daa16b",
   "metadata": {},
   "outputs": [],
   "source": [
    "#List"
   ]
  },
  {
   "cell_type": "code",
   "execution_count": 52,
   "id": "fc4fa5c0-0f53-458b-88e5-0ad454fd94ec",
   "metadata": {},
   "outputs": [],
   "source": [
    "l = []"
   ]
  },
  {
   "cell_type": "code",
   "execution_count": 53,
   "id": "074dd8b7-de2f-463b-8ba4-5ed13b18b5ea",
   "metadata": {},
   "outputs": [
    {
     "data": {
      "text/plain": [
       "[]"
      ]
     },
     "execution_count": 53,
     "metadata": {},
     "output_type": "execute_result"
    }
   ],
   "source": [
    "l"
   ]
  },
  {
   "cell_type": "code",
   "execution_count": 54,
   "id": "f7ab56a5-b461-45c0-b43c-52ad559db958",
   "metadata": {},
   "outputs": [
    {
     "data": {
      "text/plain": [
       "list"
      ]
     },
     "execution_count": 54,
     "metadata": {},
     "output_type": "execute_result"
    }
   ],
   "source": [
    "type(l)"
   ]
  },
  {
   "cell_type": "code",
   "execution_count": 55,
   "id": "0d4405c9-e1a9-4132-8a53-e1f43466c138",
   "metadata": {},
   "outputs": [
    {
     "name": "stdout",
     "output_type": "stream",
     "text": [
      "0\n"
     ]
    }
   ],
   "source": [
    "print(len(l))"
   ]
  },
  {
   "cell_type": "markdown",
   "id": "63a71469-2d78-4e25-9f46-9ac719646bff",
   "metadata": {},
   "source": [
    "#append"
   ]
  },
  {
   "cell_type": "code",
   "execution_count": 56,
   "id": "0c55e320-12fa-468e-acd5-fde96e2f56f5",
   "metadata": {},
   "outputs": [],
   "source": [
    "l.append(10)"
   ]
  },
  {
   "cell_type": "code",
   "execution_count": 57,
   "id": "f4ac4b18-9d21-43bb-aebb-5f72d9356f3a",
   "metadata": {},
   "outputs": [
    {
     "data": {
      "text/plain": [
       "[10]"
      ]
     },
     "execution_count": 57,
     "metadata": {},
     "output_type": "execute_result"
    }
   ],
   "source": [
    "l"
   ]
  },
  {
   "cell_type": "code",
   "execution_count": 58,
   "id": "72071079-03a2-42f1-a70f-496370581b47",
   "metadata": {},
   "outputs": [],
   "source": [
    "l.append(20)\n",
    "l.append(20)\n",
    "l.append(30)\n",
    "l.append(50)\n",
    "l.append(50)"
   ]
  },
  {
   "cell_type": "code",
   "execution_count": 59,
   "id": "a7594d11-b1ef-4b57-870f-93d48dc9f5ac",
   "metadata": {},
   "outputs": [
    {
     "data": {
      "text/plain": [
       "[10, 20, 20, 30, 50, 50]"
      ]
     },
     "execution_count": 59,
     "metadata": {},
     "output_type": "execute_result"
    }
   ],
   "source": [
    "l"
   ]
  },
  {
   "cell_type": "code",
   "execution_count": 61,
   "id": "e681fbeb-3cf7-47e3-8a63-5212c7fad160",
   "metadata": {},
   "outputs": [],
   "source": [
    "l1 = []\n",
    "\n",
    "l1.append('nit')\n",
    "l1.append(True)\n",
    "l1.append(3.14)\n",
    "l1.append(1+2j)\n",
    "l1.append([1,2,3,4])"
   ]
  },
  {
   "cell_type": "code",
   "execution_count": 62,
   "id": "33590642-4bec-482c-8cb2-3f1aba636d06",
   "metadata": {},
   "outputs": [
    {
     "name": "stdout",
     "output_type": "stream",
     "text": [
      "[10, 20, 20, 30, 50, 50]\n",
      "['nit', True, 3.14, (1+2j), [1, 2, 3, 4]]\n"
     ]
    }
   ],
   "source": [
    "print(l)\n",
    "print(l1)"
   ]
  },
  {
   "cell_type": "code",
   "execution_count": 64,
   "id": "26d79753-aa2d-4d8c-b530-dba15c528951",
   "metadata": {},
   "outputs": [
    {
     "name": "stdout",
     "output_type": "stream",
     "text": [
      "nit\n",
      "True\n",
      "3.14\n",
      "(1+2j)\n",
      "[1, 2, 3, 4]\n"
     ]
    }
   ],
   "source": [
    "for i in l1 :\n",
    "    print(i)"
   ]
  },
  {
   "cell_type": "code",
   "execution_count": 65,
   "id": "b7f23e6d-a08a-463f-b5e8-d2a27e001c11",
   "metadata": {},
   "outputs": [
    {
     "data": {
      "text/plain": [
       "[10, 20, 20, 30, 50, 50]"
      ]
     },
     "execution_count": 65,
     "metadata": {},
     "output_type": "execute_result"
    }
   ],
   "source": [
    "l"
   ]
  },
  {
   "cell_type": "code",
   "execution_count": 66,
   "id": "2fb702fb-ab3c-4a45-a005-bbb2d4852c4d",
   "metadata": {},
   "outputs": [
    {
     "data": {
      "text/plain": [
       "[10, 20, 20, 30, 50, 50]"
      ]
     },
     "execution_count": 66,
     "metadata": {},
     "output_type": "execute_result"
    }
   ],
   "source": [
    "l[:]"
   ]
  },
  {
   "cell_type": "code",
   "execution_count": 67,
   "id": "9545e91f-12d0-4812-a30c-b415626716a7",
   "metadata": {},
   "outputs": [
    {
     "data": {
      "text/plain": [
       "10"
      ]
     },
     "execution_count": 67,
     "metadata": {},
     "output_type": "execute_result"
    }
   ],
   "source": [
    "l[0]"
   ]
  },
  {
   "cell_type": "code",
   "execution_count": 68,
   "id": "7fd78399-b6ec-4126-9310-a0e11766acfd",
   "metadata": {},
   "outputs": [
    {
     "data": {
      "text/plain": [
       "50"
      ]
     },
     "execution_count": 68,
     "metadata": {},
     "output_type": "execute_result"
    }
   ],
   "source": [
    "l[-1]"
   ]
  },
  {
   "cell_type": "code",
   "execution_count": 69,
   "id": "884ce0f2-3ffc-4daa-90d8-040c8528b4b3",
   "metadata": {},
   "outputs": [
    {
     "data": {
      "text/plain": [
       "[10, 20, 20, 30, 50, 50]"
      ]
     },
     "execution_count": 69,
     "metadata": {},
     "output_type": "execute_result"
    }
   ],
   "source": [
    "l"
   ]
  },
  {
   "cell_type": "code",
   "execution_count": null,
   "id": "8921ef92-22e6-4153-b19b-60436ab12811",
   "metadata": {},
   "outputs": [],
   "source": [
    "#changing list"
   ]
  },
  {
   "cell_type": "code",
   "execution_count": 70,
   "id": "7d5f793e-5991-4652-9b21-b286af298e2b",
   "metadata": {},
   "outputs": [],
   "source": [
    "l[0] = 100"
   ]
  },
  {
   "cell_type": "code",
   "execution_count": 71,
   "id": "aee34d20-4eb4-43e2-8d66-2abc850ba2b9",
   "metadata": {},
   "outputs": [
    {
     "data": {
      "text/plain": [
       "[100, 20, 20, 30, 50, 50]"
      ]
     },
     "execution_count": 71,
     "metadata": {},
     "output_type": "execute_result"
    }
   ],
   "source": [
    "l"
   ]
  },
  {
   "cell_type": "markdown",
   "id": "791b7e29-b5b2-4b36-a1a5-d6ac40224f2d",
   "metadata": {},
   "source": [
    "index fun"
   ]
  },
  {
   "cell_type": "code",
   "execution_count": 72,
   "id": "9d0ccd6c-7b9f-4957-ac21-130d6fcdec36",
   "metadata": {},
   "outputs": [
    {
     "data": {
      "text/plain": [
       "100"
      ]
     },
     "execution_count": 72,
     "metadata": {},
     "output_type": "execute_result"
    }
   ],
   "source": [
    "l[0] # forward indexing"
   ]
  },
  {
   "cell_type": "code",
   "execution_count": 73,
   "id": "438d6b95-227c-431e-895e-7cf5af07a374",
   "metadata": {},
   "outputs": [
    {
     "data": {
      "text/plain": [
       "50"
      ]
     },
     "execution_count": 73,
     "metadata": {},
     "output_type": "execute_result"
    }
   ],
   "source": [
    "l[-1] # backward indexing"
   ]
  },
  {
   "cell_type": "code",
   "execution_count": 74,
   "id": "fd1777ea-1ae0-48ed-af80-b8878a056011",
   "metadata": {},
   "outputs": [
    {
     "data": {
      "text/plain": [
       "[100, 20, 20, 30, 50, 50]"
      ]
     },
     "execution_count": 74,
     "metadata": {},
     "output_type": "execute_result"
    }
   ],
   "source": [
    "l"
   ]
  },
  {
   "cell_type": "code",
   "execution_count": 75,
   "id": "c2256a02-0e1b-43c0-bd45-a8ce9fd5f63a",
   "metadata": {},
   "outputs": [
    {
     "data": {
      "text/plain": [
       "[20, 20]"
      ]
     },
     "execution_count": 75,
     "metadata": {},
     "output_type": "execute_result"
    }
   ],
   "source": [
    "l[1:3]"
   ]
  },
  {
   "cell_type": "code",
   "execution_count": 76,
   "id": "ab60a41e-5645-432e-b092-d6125a8445d0",
   "metadata": {},
   "outputs": [],
   "source": [
    "l[0] = 100 #list is mutable(chnageable)"
   ]
  },
  {
   "cell_type": "code",
   "execution_count": 77,
   "id": "f786fa05-1f60-43f0-b93d-e0f7bbc7c1d5",
   "metadata": {},
   "outputs": [
    {
     "data": {
      "text/plain": [
       "[100, 20, 20, 30, 50, 50]"
      ]
     },
     "execution_count": 77,
     "metadata": {},
     "output_type": "execute_result"
    }
   ],
   "source": [
    "l"
   ]
  },
  {
   "cell_type": "code",
   "execution_count": 78,
   "id": "718a3b54-285d-45b2-836b-ee797051c043",
   "metadata": {},
   "outputs": [
    {
     "data": {
      "text/plain": [
       "['nit', True, 3.14, (1+2j), [1, 2, 3, 4]]"
      ]
     },
     "execution_count": 78,
     "metadata": {},
     "output_type": "execute_result"
    }
   ],
   "source": [
    "l1"
   ]
  },
  {
   "cell_type": "code",
   "execution_count": 79,
   "id": "6b1e58d0-8061-47bc-89db-af12205bf559",
   "metadata": {},
   "outputs": [
    {
     "data": {
      "text/plain": [
       "[100, 20, 20, 30, 50, 50]"
      ]
     },
     "execution_count": 79,
     "metadata": {},
     "output_type": "execute_result"
    }
   ],
   "source": [
    "l"
   ]
  },
  {
   "cell_type": "code",
   "execution_count": 80,
   "id": "d4722322-1f17-4d3b-a78a-d2e603839fb0",
   "metadata": {},
   "outputs": [
    {
     "data": {
      "text/plain": [
       "['nit', True, 3.14, (1+2j), [1, 2, 3, 4]]"
      ]
     },
     "execution_count": 80,
     "metadata": {},
     "output_type": "execute_result"
    }
   ],
   "source": [
    "l1"
   ]
  },
  {
   "cell_type": "code",
   "execution_count": 81,
   "id": "e35e4dce-e802-44c4-91fc-375bd8ea3b2f",
   "metadata": {},
   "outputs": [],
   "source": [
    "l.append(50)"
   ]
  },
  {
   "cell_type": "code",
   "execution_count": 82,
   "id": "cb2d33b5-db9c-4ce3-b367-04607a0fa723",
   "metadata": {},
   "outputs": [
    {
     "data": {
      "text/plain": [
       "[100, 20, 20, 30, 50, 50, 50]"
      ]
     },
     "execution_count": 82,
     "metadata": {},
     "output_type": "execute_result"
    }
   ],
   "source": [
    "l"
   ]
  },
  {
   "cell_type": "code",
   "execution_count": 83,
   "id": "8bb55b5b-6062-4736-81b6-23eb8583721b",
   "metadata": {},
   "outputs": [],
   "source": [
    "l.append(60)"
   ]
  },
  {
   "cell_type": "code",
   "execution_count": 84,
   "id": "88ff8b0b-41f5-483b-8a2e-14f010393711",
   "metadata": {},
   "outputs": [
    {
     "data": {
      "text/plain": [
       "[100, 20, 20, 30, 50, 50, 50, 60]"
      ]
     },
     "execution_count": 84,
     "metadata": {},
     "output_type": "execute_result"
    }
   ],
   "source": [
    "l"
   ]
  },
  {
   "cell_type": "markdown",
   "id": "c704e1bf-4e05-43d3-9757-22117ffeeaf2",
   "metadata": {},
   "source": [
    "#Copy fun"
   ]
  },
  {
   "cell_type": "code",
   "execution_count": 85,
   "id": "a436dd68-aeed-4dfa-bc26-275d71cb2ebf",
   "metadata": {},
   "outputs": [
    {
     "data": {
      "text/plain": [
       "[]"
      ]
     },
     "execution_count": 85,
     "metadata": {},
     "output_type": "execute_result"
    }
   ],
   "source": [
    "l2 = []\n",
    "l2"
   ]
  },
  {
   "cell_type": "code",
   "execution_count": 86,
   "id": "51e79bd0-bd81-4184-9688-43aca690bf73",
   "metadata": {},
   "outputs": [],
   "source": [
    "l2 = l1.copy() # copy fun is used to copy the list"
   ]
  },
  {
   "cell_type": "code",
   "execution_count": 87,
   "id": "b1f801f6-468e-4654-94c4-a6d50ca18c53",
   "metadata": {},
   "outputs": [
    {
     "data": {
      "text/plain": [
       "['nit', True, 3.14, (1+2j), [1, 2, 3, 4]]"
      ]
     },
     "execution_count": 87,
     "metadata": {},
     "output_type": "execute_result"
    }
   ],
   "source": [
    "l2"
   ]
  },
  {
   "cell_type": "code",
   "execution_count": 88,
   "id": "a1e79354-0548-4d11-89ef-241c8f5be642",
   "metadata": {},
   "outputs": [
    {
     "data": {
      "text/plain": [
       "True"
      ]
     },
     "execution_count": 88,
     "metadata": {},
     "output_type": "execute_result"
    }
   ],
   "source": [
    "l1 == l2"
   ]
  },
  {
   "cell_type": "code",
   "execution_count": 89,
   "id": "f6a29c2f-1acd-45ba-ae7f-b46b461e3638",
   "metadata": {},
   "outputs": [
    {
     "name": "stdout",
     "output_type": "stream",
     "text": [
      "['nit', True, 3.14, (1+2j), [1, 2, 3, 4]]\n",
      "['nit', True, 3.14, (1+2j), [1, 2, 3, 4]]\n"
     ]
    }
   ],
   "source": [
    "print(l1)\n",
    "print(l2)"
   ]
  },
  {
   "cell_type": "code",
   "execution_count": 90,
   "id": "9e78c0cf-92ec-40d7-b167-a7e8263e638b",
   "metadata": {},
   "outputs": [
    {
     "name": "stdout",
     "output_type": "stream",
     "text": [
      "1908266573056\n",
      "1908266573056\n",
      "1908272227200\n"
     ]
    }
   ],
   "source": [
    "print(id(l))\n",
    "print(id(l))\n",
    "print(id(l2))"
   ]
  },
  {
   "cell_type": "markdown",
   "id": "bc5175d0-47b8-41c0-a241-387658ea11ae",
   "metadata": {},
   "source": [
    "#Count fun"
   ]
  },
  {
   "cell_type": "code",
   "execution_count": 91,
   "id": "574d3df2-d4df-4afc-aacf-4d1957948fcd",
   "metadata": {},
   "outputs": [
    {
     "data": {
      "text/plain": [
       "[100, 20, 20, 30, 50, 50, 50, 60]"
      ]
     },
     "execution_count": 91,
     "metadata": {},
     "output_type": "execute_result"
    }
   ],
   "source": [
    "l"
   ]
  },
  {
   "cell_type": "code",
   "execution_count": null,
   "id": "e5eeba0f-4c0e-4019-8964-7ee743056a09",
   "metadata": {},
   "outputs": [],
   "source": [
    "l.cont(20) # count function is used to count the element under the list\n"
   ]
  },
  {
   "cell_type": "code",
   "execution_count": 92,
   "id": "c0777aca-54ca-4b4d-9163-9d2d74290362",
   "metadata": {},
   "outputs": [
    {
     "data": {
      "text/plain": [
       "1"
      ]
     },
     "execution_count": 92,
     "metadata": {},
     "output_type": "execute_result"
    }
   ],
   "source": [
    "l2.count('nit')"
   ]
  },
  {
   "cell_type": "markdown",
   "id": "b1894afa-6b94-4f99-8a2f-bd0a544163d7",
   "metadata": {},
   "source": [
    "clear fun"
   ]
  },
  {
   "cell_type": "code",
   "execution_count": 93,
   "id": "5bd8a41c-8980-4a63-b8fd-2981055e360c",
   "metadata": {},
   "outputs": [
    {
     "data": {
      "text/plain": [
       "[100, 20, 20, 30, 50, 50, 50, 60]"
      ]
     },
     "execution_count": 93,
     "metadata": {},
     "output_type": "execute_result"
    }
   ],
   "source": [
    "l"
   ]
  },
  {
   "cell_type": "code",
   "execution_count": null,
   "id": "36a61cc6-e235-409b-868c-f047b8217aa3",
   "metadata": {},
   "outputs": [],
   "source": [
    "l.clear() # claer function is used to claer the all atoms"
   ]
  },
  {
   "cell_type": "code",
   "execution_count": 94,
   "id": "bbab5c8f-7e82-4c72-87d4-7aaf01c5c5b6",
   "metadata": {},
   "outputs": [
    {
     "data": {
      "text/plain": [
       "[100, 20, 20, 30, 50, 50, 50, 60]"
      ]
     },
     "execution_count": 94,
     "metadata": {},
     "output_type": "execute_result"
    }
   ],
   "source": [
    "l"
   ]
  },
  {
   "cell_type": "code",
   "execution_count": 97,
   "id": "6b2fe6e5-8f29-4e1e-b1da-1b522104f6c4",
   "metadata": {},
   "outputs": [],
   "source": [
    "l.clear()"
   ]
  },
  {
   "cell_type": "code",
   "execution_count": 98,
   "id": "3ab28283-77f6-44ac-9e6a-57c99af56c47",
   "metadata": {},
   "outputs": [
    {
     "data": {
      "text/plain": [
       "[]"
      ]
     },
     "execution_count": 98,
     "metadata": {},
     "output_type": "execute_result"
    }
   ],
   "source": [
    "l"
   ]
  },
  {
   "cell_type": "markdown",
   "id": "28ec4862-36b9-45e2-8abd-9ae13da1b5e7",
   "metadata": {},
   "source": [
    "# Delet the variables "
   ]
  },
  {
   "cell_type": "code",
   "execution_count": 99,
   "id": "b37e55ae-4681-4f93-9fc3-97d746bbfc2c",
   "metadata": {},
   "outputs": [],
   "source": [
    "del l"
   ]
  },
  {
   "cell_type": "code",
   "execution_count": 100,
   "id": "aff97115-623f-466b-a33a-606fd4f4fac2",
   "metadata": {},
   "outputs": [
    {
     "ename": "NameError",
     "evalue": "name 'l' is not defined",
     "output_type": "error",
     "traceback": [
      "\u001b[1;31m---------------------------------------------------------------------------\u001b[0m",
      "\u001b[1;31mNameError\u001b[0m                                 Traceback (most recent call last)",
      "Cell \u001b[1;32mIn[100], line 1\u001b[0m\n\u001b[1;32m----> 1\u001b[0m l\n",
      "\u001b[1;31mNameError\u001b[0m: name 'l' is not defined"
     ]
    }
   ],
   "source": [
    "l"
   ]
  },
  {
   "cell_type": "markdown",
   "id": "2233cc76-681b-47a8-8ef8-457fa053a36a",
   "metadata": {},
   "source": [
    "#pop function"
   ]
  },
  {
   "cell_type": "code",
   "execution_count": 101,
   "id": "bfc94b9f-24d4-45bb-8d6e-e3e45a1644eb",
   "metadata": {},
   "outputs": [
    {
     "data": {
      "text/plain": [
       "['nit', True, 3.14, (1+2j), [1, 2, 3, 4]]"
      ]
     },
     "execution_count": 101,
     "metadata": {},
     "output_type": "execute_result"
    }
   ],
   "source": [
    "l1"
   ]
  },
  {
   "cell_type": "code",
   "execution_count": 102,
   "id": "bbc5556e-0da7-4540-829b-c47492f882e0",
   "metadata": {},
   "outputs": [
    {
     "data": {
      "text/plain": [
       "[1, 2, 3, 4]"
      ]
     },
     "execution_count": 102,
     "metadata": {},
     "output_type": "execute_result"
    }
   ],
   "source": [
    "l1.pop() #pop remove and return item (by default it is remove last item from list)and you can remove specific item by giving index number as argument ."
   ]
  },
  {
   "cell_type": "code",
   "execution_count": 103,
   "id": "aacb0c37-1cf8-4d02-a211-d85f5d404539",
   "metadata": {},
   "outputs": [
    {
     "data": {
      "text/plain": [
       "['nit', True, 3.14, (1+2j)]"
      ]
     },
     "execution_count": 103,
     "metadata": {},
     "output_type": "execute_result"
    }
   ],
   "source": [
    "l1"
   ]
  },
  {
   "cell_type": "code",
   "execution_count": 104,
   "id": "116205d4-bfdf-4824-a132-78f070ecc6be",
   "metadata": {},
   "outputs": [
    {
     "data": {
      "text/plain": [
       "True"
      ]
     },
     "execution_count": 104,
     "metadata": {},
     "output_type": "execute_result"
    }
   ],
   "source": [
    "l1.pop(1)# remove items used index number"
   ]
  },
  {
   "cell_type": "code",
   "execution_count": 105,
   "id": "d935e533-200c-4e6f-9fee-d2172b65a318",
   "metadata": {},
   "outputs": [
    {
     "data": {
      "text/plain": [
       "['nit', 3.14, (1+2j)]"
      ]
     },
     "execution_count": 105,
     "metadata": {},
     "output_type": "execute_result"
    }
   ],
   "source": [
    "l1"
   ]
  },
  {
   "cell_type": "markdown",
   "id": "3885f022-65c2-42b5-b4bd-fa05a285d0fd",
   "metadata": {},
   "source": [
    "#remove function"
   ]
  },
  {
   "cell_type": "code",
   "execution_count": 106,
   "id": "7b75b50c-98f0-41b4-ac6f-210e90025110",
   "metadata": {},
   "outputs": [
    {
     "data": {
      "text/plain": [
       "['nit', True, 3.14, (1+2j), [1, 2, 3, 4]]"
      ]
     },
     "execution_count": 106,
     "metadata": {},
     "output_type": "execute_result"
    }
   ],
   "source": [
    "l2"
   ]
  },
  {
   "cell_type": "code",
   "execution_count": 107,
   "id": "d9e1fb4f-7eb6-4ef3-823a-5efaac97a04b",
   "metadata": {},
   "outputs": [],
   "source": [
    "l2.remove(True) # remove fun is used to remove items but it does not return"
   ]
  },
  {
   "cell_type": "code",
   "execution_count": 108,
   "id": "4da2c133-9788-4b74-a7bf-53a1691dc4b6",
   "metadata": {},
   "outputs": [
    {
     "data": {
      "text/plain": [
       "['nit', 3.14, (1+2j), [1, 2, 3, 4]]"
      ]
     },
     "execution_count": 108,
     "metadata": {},
     "output_type": "execute_result"
    }
   ],
   "source": [
    "l2"
   ]
  },
  {
   "cell_type": "markdown",
   "id": "fea784fa-ae91-45fe-8790-9687dbe91e9d",
   "metadata": {},
   "source": [
    "#insert function"
   ]
  },
  {
   "cell_type": "code",
   "execution_count": 109,
   "id": "af81c2f0-e817-4be6-a981-24614e106343",
   "metadata": {},
   "outputs": [
    {
     "data": {
      "text/plain": [
       "['nit', 3.14, (1+2j)]"
      ]
     },
     "execution_count": 109,
     "metadata": {},
     "output_type": "execute_result"
    }
   ],
   "source": [
    "l1"
   ]
  },
  {
   "cell_type": "code",
   "execution_count": 110,
   "id": "98dfbfca-3708-4640-bcfd-b4eae29f3d3f",
   "metadata": {},
   "outputs": [],
   "source": [
    "l1.insert(0,True) # insert  the item using insert function"
   ]
  },
  {
   "cell_type": "code",
   "execution_count": 111,
   "id": "a156f579-5cd8-435e-9ba5-9b7bf5c862c4",
   "metadata": {},
   "outputs": [
    {
     "data": {
      "text/plain": [
       "[True, 'nit', 3.14, (1+2j)]"
      ]
     },
     "execution_count": 111,
     "metadata": {},
     "output_type": "execute_result"
    }
   ],
   "source": [
    "l1"
   ]
  },
  {
   "cell_type": "code",
   "execution_count": 112,
   "id": "fdfa6b95-ba32-4fba-a55d-848855d62215",
   "metadata": {},
   "outputs": [],
   "source": [
    "l1.insert(3,[1,2,3])"
   ]
  },
  {
   "cell_type": "code",
   "execution_count": 113,
   "id": "0c7c19a8-4391-459f-81b7-aad28ffe7aec",
   "metadata": {},
   "outputs": [
    {
     "data": {
      "text/plain": [
       "[True, 'nit', 3.14, [1, 2, 3], (1+2j)]"
      ]
     },
     "execution_count": 113,
     "metadata": {},
     "output_type": "execute_result"
    }
   ],
   "source": [
    "l1"
   ]
  },
  {
   "cell_type": "code",
   "execution_count": 114,
   "id": "1f25e352-6df2-4212-a676-a3e4fb772f15",
   "metadata": {},
   "outputs": [
    {
     "data": {
      "text/plain": [
       "[True, 'nit', 3.14, [1, 2, 3], (1+2j)]"
      ]
     },
     "execution_count": 114,
     "metadata": {},
     "output_type": "execute_result"
    }
   ],
   "source": [
    "l1"
   ]
  },
  {
   "cell_type": "markdown",
   "id": "6dffbb84-8c8a-40d8-960e-994962fb8371",
   "metadata": {},
   "source": [
    "#sort function"
   ]
  },
  {
   "cell_type": "code",
   "execution_count": 115,
   "id": "6b214099-308d-43be-b63b-b3f6e8a577b8",
   "metadata": {},
   "outputs": [],
   "source": [
    "l = [30,50,82,10,90,38]"
   ]
  },
  {
   "cell_type": "code",
   "execution_count": 116,
   "id": "926a2f1b-4011-4a75-a189-0d25ea00e24c",
   "metadata": {},
   "outputs": [
    {
     "data": {
      "text/plain": [
       "[30, 50, 82, 10, 90, 38]"
      ]
     },
     "execution_count": 116,
     "metadata": {},
     "output_type": "execute_result"
    }
   ],
   "source": [
    "l"
   ]
  },
  {
   "cell_type": "code",
   "execution_count": 117,
   "id": "f8ae1514-02b9-4f56-b3d6-954f7495fd67",
   "metadata": {},
   "outputs": [],
   "source": [
    "l.sort() # sorts the list in ascending"
   ]
  },
  {
   "cell_type": "code",
   "execution_count": 118,
   "id": "b688c1e2-6964-40d3-b888-ff0cdebd3773",
   "metadata": {},
   "outputs": [
    {
     "data": {
      "text/plain": [
       "[10, 30, 38, 50, 82, 90]"
      ]
     },
     "execution_count": 118,
     "metadata": {},
     "output_type": "execute_result"
    }
   ],
   "source": [
    "l"
   ]
  },
  {
   "cell_type": "markdown",
   "id": "8c4ad81f-7435-40ed-9aeb-94d072d316ae",
   "metadata": {},
   "source": [
    "#revers function"
   ]
  },
  {
   "cell_type": "code",
   "execution_count": 119,
   "id": "ae02e3fb-8f4b-4c74-ba06-93d2e4ee4ce2",
   "metadata": {},
   "outputs": [
    {
     "data": {
      "text/plain": [
       "[10, 30, 38, 50, 82, 90]"
      ]
     },
     "execution_count": 119,
     "metadata": {},
     "output_type": "execute_result"
    }
   ],
   "source": [
    "l"
   ]
  },
  {
   "cell_type": "code",
   "execution_count": 120,
   "id": "1286f76d-4d41-4508-87a9-0b57d96ac38b",
   "metadata": {},
   "outputs": [],
   "source": [
    "l.reverse() #reverse the ordr of the elements in a lsit modify the original list"
   ]
  },
  {
   "cell_type": "code",
   "execution_count": 121,
   "id": "b0b72108-d19c-4856-8f2f-c3ed8d2c9be1",
   "metadata": {},
   "outputs": [
    {
     "data": {
      "text/plain": [
       "[90, 82, 50, 38, 30, 10]"
      ]
     },
     "execution_count": 121,
     "metadata": {},
     "output_type": "execute_result"
    }
   ],
   "source": [
    "l"
   ]
  },
  {
   "cell_type": "markdown",
   "id": "6e87549c-aac3-4b27-a861-408a50cd9329",
   "metadata": {},
   "source": [
    "#extend function"
   ]
  },
  {
   "cell_type": "code",
   "execution_count": 122,
   "id": "08e9599e-d70c-48df-9083-674c0fd2ab8c",
   "metadata": {},
   "outputs": [
    {
     "name": "stdout",
     "output_type": "stream",
     "text": [
      "[90, 82, 50, 38, 30, 10]\n",
      "[True, 'nit', 3.14, [1, 2, 3], (1+2j)]\n"
     ]
    }
   ],
   "source": [
    "print(l)\n",
    "print(l1)"
   ]
  },
  {
   "cell_type": "code",
   "execution_count": 123,
   "id": "d610cab0-d3c8-4738-9e71-0c4caf25f9a3",
   "metadata": {},
   "outputs": [],
   "source": [
    "l.extend(l1) # merge one list from another list"
   ]
  },
  {
   "cell_type": "code",
   "execution_count": 124,
   "id": "d8606b8c-427e-41b0-a431-0b4436b89202",
   "metadata": {},
   "outputs": [
    {
     "data": {
      "text/plain": [
       "[90, 82, 50, 38, 30, 10, True, 'nit', 3.14, [1, 2, 3], (1+2j)]"
      ]
     },
     "execution_count": 124,
     "metadata": {},
     "output_type": "execute_result"
    }
   ],
   "source": [
    "l"
   ]
  },
  {
   "cell_type": "code",
   "execution_count": null,
   "id": "5cabc040-181f-42a5-b320-fbc26407b039",
   "metadata": {},
   "outputs": [],
   "source": []
  }
 ],
 "metadata": {
  "kernelspec": {
   "display_name": "Python 3 (ipykernel)",
   "language": "python",
   "name": "python3"
  },
  "language_info": {
   "codemirror_mode": {
    "name": "ipython",
    "version": 3
   },
   "file_extension": ".py",
   "mimetype": "text/x-python",
   "name": "python",
   "nbconvert_exporter": "python",
   "pygments_lexer": "ipython3",
   "version": "3.12.7"
  }
 },
 "nbformat": 4,
 "nbformat_minor": 5
}
